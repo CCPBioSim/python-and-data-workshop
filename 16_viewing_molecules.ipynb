{
 "cells": [
  {
   "cell_type": "markdown",
   "metadata": {},
   "source": [
    "# Viewing Molecules\n",
    "\n",
    "[nglview](http://nglviewer.org/nglview/latest/api.html) is an extremely powerful and capable 3D molecule view that runs within a web browser. It supports complex visualisations of molecules from a range of file formats, and can even be used to view trajectories. It provides a full framework for building 3D molecular visualisation into your Jupyter notebooks or websites.\n",
    "\n",
    "While nglview is very powerful, that power and flexibility can be a little daunting for newcomers. "
   ]
  },
  {
   "cell_type": "code",
   "execution_count": null,
   "metadata": {},
   "outputs": [],
   "source": [
    "import nglview as nv\n",
    "view = nv.show_file(\"data/dioxin.pdb\")\n",
    "view\n",
    "view.display(gui=True)"
   ]
  },
  {
   "cell_type": "markdown",
   "metadata": {},
   "source": [
    "The above code has used nglview to load the molecule contained in `dioxin.pdb`. This is then rendered using nglview. The above nglview interface allows you to rotate the molecule (left click and drag), zoom in and out (pinch or scroll up or down) and translate (right click and drag, or control+click on a Mac).\n",
    "\n",
    "Try moving and rotating the molecule. If you lose the molecule, click the \"Center\" button in the General tab to recenter the molecule.\n",
    "\n",
    "![Simple molecule view](images/view_move.jpeg)"
   ]
  },
  {
   "cell_type": "markdown",
   "metadata": {},
   "source": [
    "The nglview `show_file` function has done two things:\n",
    "\n",
    "* it first loaded the molecule(s) from the file,\n",
    "* and it then rendered them\n",
    "\n",
    "Loading molecules can take a long time and use a lot of memory. To prevent you from having to repeatedly load molecules, the `show_file` function has returned a view object that can be re-used. To see how to use it, use python's help..."
   ]
  },
  {
   "cell_type": "code",
   "execution_count": null,
   "metadata": {},
   "outputs": [],
   "source": [
    "help(view)"
   ]
  },
  {
   "cell_type": "markdown",
   "metadata": {},
   "source": [
    "As you can see, we can use `view` to view all of the loaded molecules again, without having to reload them."
   ]
  },
  {
   "cell_type": "code",
   "execution_count": null,
   "metadata": {
    "scrolled": false
   },
   "outputs": [],
   "source": [
    "view\n",
    "view.display(gui=True)"
   ]
  },
  {
   "cell_type": "markdown",
   "metadata": {},
   "source": [
    "You can change the representation of the molecule by clicking on the \"Representation\" tab. First click the \"Remove\" icon to remove the current representation. Then click the drop-down representation box to choose another representation (e.g. \"spacefill\"). Then click the \"Add\" icon to add that representation. Experiment with adding and removing different representations.\n",
    "\n",
    "![Different representations](images/view_representation.jpeg)"
   ]
  },
  {
   "cell_type": "markdown",
   "metadata": {},
   "source": [
    "# Loading lots of molecules\n",
    "\n",
    "nglview isn't just limited to viewing small molecules. It also works really well as a viewer for large molecular systems. It (sometimes) is sufficiently clever to select appropriate representations for the molecules being loaded.\n",
    "\n",
    "For example, view the protein-ligand complex in `data/complex.pdb`"
   ]
  },
  {
   "cell_type": "code",
   "execution_count": null,
   "metadata": {
    "scrolled": false
   },
   "outputs": [],
   "source": [
    "v = nv.show_file(\"data/complex.pdb\")\n",
    "v\n",
    "v.display(gui=True)"
   ]
  },
  {
   "cell_type": "markdown",
   "metadata": {},
   "source": [
    "In this case, nglview has automatically selected a cartoon representation for the protein and a ball and stick representation for the ligand.\n",
    "\n",
    "You can achieve this yourself by using selections to set different representation for different molecules (or parts of molecules). First, delete the default representations by repeatedly clicking the \"Remove\" button in the representations tab. Once you have removed all of them, we will add a new representation. Select the type as surface, and then type \"protein\" into the selection box (which starts off with a \"*\" in it).\n",
    "\n",
    "![Select protein](images/view_protein.jpeg)\n",
    "\n",
    "Click \"Add\". After some time thinking, nglview will show you a surface representation of the protein.\n",
    "\n",
    "Next, add a \"spacefill\" representation to the ligand. The ligand residue is called \"LIG\", so to do this, select \"spacefill\", type \"LIG\" into the selection box, and then click add. You should now see the ligand neatly bound into the protein.\n",
    "\n",
    "![Select ligand](images/view_ligand.jpeg)\n",
    "\n",
    "The selection box can be used to select proteins (\"protein\"), water (\"water\"), everything (\"*\") or residues by name (e.g. \"LIG\") or number (e.g. \"35\"). Play around creating different selections and representations. For example, create a \"point\" representation for water, a \"tube\" representation of the protein and a \"licorice\" representation of all alanine residues. Note - you can control the opacity (level of transparency) of a representation by selecting the representation in the drop down box and changing the \"opacity\" slider in the \"Parameters\" tab - see below. You can also change things like the colour scheme of the representation in this \"Parameters\" tab\n",
    "\n",
    "![Opacity](images/view_opacity.jpeg)"
   ]
  }
 ],
 "metadata": {
  "kernelspec": {
   "display_name": "Python 3",
   "language": "python",
   "name": "python3"
  },
  "language_info": {
   "codemirror_mode": {
    "name": "ipython",
    "version": 3
   },
   "file_extension": ".py",
   "mimetype": "text/x-python",
   "name": "python",
   "nbconvert_exporter": "python",
   "pygments_lexer": "ipython3",
   "version": "3.1.-1"
  }
 },
 "nbformat": 4,
 "nbformat_minor": 2
}
