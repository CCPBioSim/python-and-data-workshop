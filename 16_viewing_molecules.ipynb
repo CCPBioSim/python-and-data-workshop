{
 "cells": [
  {
   "cell_type": "markdown",
   "metadata": {},
   "source": [
    "# Viewing Molecules\n",
    "\n",
    "[nglview](http://nglviewer.org/nglview/latest/api.html) is an extremely powerful and capable 3D molecule view that runs within a web browser. It supports complex visualisations of molecules from a range of file formats, and can even be used to view trajectories. It provides a full framework for building 3D molecular visualisation into your Jupyter notebooks or websites.\n",
    "\n",
    "While nglview is very powerful, that power and flexibility can be a little daunting for newcomers. [BioSimSpace](https://biosimspace.org) is a project that provides easy-to-use wrappers around common molecular simulation tasks. One such task is viewing molecules. BioSimSpace provides the function `viewMolecules` that uses [nglview](http://nglviewer.org/nglview/latest/api.html) to do exactly that :-)"
   ]
  },
  {
   "cell_type": "code",
   "execution_count": null,
   "metadata": {},
   "outputs": [],
   "source": [
    "from BioSimSpace import viewMolecules\n",
    "v = viewMolecules(\"data/dioxin.pdb\")"
   ]
  },
  {
   "cell_type": "markdown",
   "metadata": {},
   "source": [
    "The above code has use the molecule file parsers built into BioSimSpace to load the molecule contained in `dioxin.pdb`. This is then rendered using nglview. The above nglview interface allows you to rotate the molecule (left click and drag), zoom in and out (pinch or scroll up or down) and translate (right click and drag, or control+click on a Mac).\n",
    "\n",
    "Try moving and rotating the molecule. If you lose the molecule, click the \"Center\" button in the General tab to recenter the molecule.\n",
    "\n",
    "![Simple molecule view](images/view_move.jpeg)"
   ]
  },
  {
   "cell_type": "markdown",
   "metadata": {},
   "source": [
    "The BioSimSpace `viewMolecules` function has done two things:\n",
    "\n",
    "* it first loaded the molecule(s) from the file,\n",
    "* and it then rendered them\n",
    "\n",
    "Loading molecules can take a long time and use a lot of memory. To prevent you from having to repeatedly load molecules, the `viewMolecules` function has returned a view object that can be re-used. To see how to use it, use python's help..."
   ]
  },
  {
   "cell_type": "code",
   "execution_count": null,
   "metadata": {},
   "outputs": [],
   "source": [
    "help(v)"
   ]
  },
  {
   "cell_type": "markdown",
   "metadata": {},
   "source": [
    "As you can see, we can use `v.system()` to view all of the loaded molecules again, without having to reload them."
   ]
  },
  {
   "cell_type": "code",
   "execution_count": null,
   "metadata": {
    "scrolled": false
   },
   "outputs": [],
   "source": [
    "v.system()"
   ]
  },
  {
   "cell_type": "markdown",
   "metadata": {},
   "source": [
    "You can change the representation of the molecule by clicking on the \"Representation\" tab. First click the \"Remove\" icon to remove the current representation. Then click the drop-down representation box to choose another representation (e.g. \"spacefill\"). Then click the \"Add\" icon to add that representation. Experiment with adding and removing different representations.\n",
    "\n",
    "![Different representations](images/view_representation.jpeg)"
   ]
  },
  {
   "cell_type": "markdown",
   "metadata": {},
   "source": [
    "# Loading lots of molecules\n",
    "\n",
    "nglview isn't just limited to viewing small molecules. It also works really well as a viewer for large molecular systems. It (sometimes) is sufficiently clever to select appropriate representations for the molecules being loaded.\n",
    "\n",
    "For example, view the protein-ligand complex in `data/complex.pdb`"
   ]
  },
  {
   "cell_type": "code",
   "execution_count": null,
   "metadata": {
    "scrolled": false
   },
   "outputs": [],
   "source": [
    "v = viewMolecules(\"data/complex.pdb\")"
   ]
  },
  {
   "cell_type": "markdown",
   "metadata": {},
   "source": [
    "In this case, nglview has automatically selected a cartoon representation for the protein and a ball and stick representation for the ligand.\n",
    "\n",
    "You can achieve this yourself by using selections to set different representation for different molecules (or parts of molecules). First, delete the default representations by repeatedly clicking the \"Remove\" button in the representations tab. Once you have removed all of them, we will add a new representation. Select the type as surface, and then type \"protein\" into the selection box (which starts off with a \"*\" in it).\n",
    "\n",
    "![Select protein](images/view_protein.jpeg)\n",
    "\n",
    "Click \"Add\". After some time thinking, nglview will show you a surface representation of the protein.\n",
    "\n",
    "Next, add a \"spacefill\" representation to the ligand. The ligand residue is called \"LIG\", so to do this, select \"spacefill\", type \"LIG\" into the selection box, and then click add. You should now see the ligand neatly bound into the protein.\n",
    "\n",
    "![Select ligand](images/view_ligand.jpeg)\n",
    "\n",
    "The selection box can be used to select proteins (\"protein\"), water (\"water\"), everything (\"*\") or residues by name (e.g. \"LIG\") or number (e.g. \"35\"). Play around creating different selections and representations. For example, create a \"point\" representation for water, a \"tube\" representation of the protein and a \"licorice\" representation of all alanine residues. Note - you can control the opacity (level of transparency) of a representation by selecting the representation in the drop down box and changing the \"opacity\" slider in the \"Parameters\" tab - see below. You can also change things like the colour scheme of the representation in this \"Parameters\" tab\n",
    "\n",
    "![Opacity](images/view_opacity.jpeg)"
   ]
  },
  {
   "cell_type": "markdown",
   "metadata": {},
   "source": [
    "# Viewing individual molecules\n",
    "\n",
    "The view object returned by BioSimSpace can be used to view specific molecules from the file. To do this, use the `molecules` function. This takes a list of indicies of the molecules you want to view. For example, to view the first molecule (molecule at index 0) type;"
   ]
  },
  {
   "cell_type": "code",
   "execution_count": null,
   "metadata": {},
   "outputs": [],
   "source": [
    "v.molecules([0])"
   ]
  },
  {
   "cell_type": "markdown",
   "metadata": {},
   "source": [
    "while to view molecules 100-1000 use the below code (noting that you may need to add a \"ball and stick\" represntation in case nglview automatically hides the water molecules)."
   ]
  },
  {
   "cell_type": "code",
   "execution_count": null,
   "metadata": {},
   "outputs": [],
   "source": [
    "v.molecules( range(100,1000) )"
   ]
  },
  {
   "cell_type": "markdown",
   "metadata": {},
   "source": [
    "# Loading more complex files\n",
    "\n",
    "BioSimSpace provides reader and writers for a variety of molecular file formats. Some of these split the molecular data over multiple files, e.g. a topology and coordinate file. To view these, pass all of the necessary files to `viewMolecules` in a list, e.g."
   ]
  },
  {
   "cell_type": "code",
   "execution_count": null,
   "metadata": {},
   "outputs": [],
   "source": [
    "v = viewMolecules([\"data/ala.top\",\"data/ala.crd\"])"
   ]
  },
  {
   "cell_type": "markdown",
   "metadata": {},
   "source": [
    "This can be combined with molecule selection, e.g. to load and view only molecules 0-4 in the file pass the indicies of the molecules you want to view as a second argument to `viewMolecule`, e.g."
   ]
  },
  {
   "cell_type": "code",
   "execution_count": null,
   "metadata": {},
   "outputs": [],
   "source": [
    "v = viewMolecules([\"data/ala.top\",\"data/ala.crd\"], [0,1,2,3,4])"
   ]
  },
  {
   "cell_type": "markdown",
   "metadata": {},
   "source": [
    "(in reality, all molecules are loaded, but only molecules specified by the indicies are viewed. You can still use `v.system()` to view all molecules)"
   ]
  },
  {
   "cell_type": "code",
   "execution_count": null,
   "metadata": {},
   "outputs": [],
   "source": [
    "v.system()"
   ]
  }
 ],
 "metadata": {
  "kernelspec": {
   "display_name": "Python 3",
   "language": "python",
   "name": "python3"
  },
  "language_info": {
   "codemirror_mode": {
    "name": "ipython",
    "version": 3
   },
   "file_extension": ".py",
   "mimetype": "text/x-python",
   "name": "python",
   "nbconvert_exporter": "python",
   "pygments_lexer": "ipython3",
   "version": "3.5.2"
  }
 },
 "nbformat": 4,
 "nbformat_minor": 2
}
