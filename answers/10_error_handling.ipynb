{
 "cells": [
  {
   "cell_type": "markdown",
   "metadata": {},
   "source": [
    "# Error Handling\n",
    "\n",
    "Exceptions are useful for more than just signalling errors. They can also be used to help you handle the error, and potentially even fix the problem (true self-healing program!).\n",
    "\n",
    "Consider this cut down version of the `.setHeight` function from the last session..."
   ]
  },
  {
   "cell_type": "code",
   "execution_count": 1,
   "metadata": {
    "collapsed": true
   },
   "outputs": [],
   "source": [
    "def setHeight(height):\n",
    "    if height < 0 or height > 2.5:\n",
    "        raise ValueError(\"Invalid height: %s. This should be between 0 and 2.5 m\" % height)\n",
    "    print(\"setting the height to %s\" % height)"
   ]
  },
  {
   "cell_type": "markdown",
   "metadata": {},
   "source": [
    "The code currently correctly detects if the user supplies a height that is below 0 or above 2.5. However, what about when the user tries to set the height to something that is not a number?"
   ]
  },
  {
   "cell_type": "code",
   "execution_count": 2,
   "metadata": {},
   "outputs": [
    {
     "ename": "TypeError",
     "evalue": "unorderable types: str() < int()",
     "output_type": "error",
     "traceback": [
      "\u001b[0;31m---------------------------------------------------------------------------\u001b[0m",
      "\u001b[0;31mTypeError\u001b[0m                                 Traceback (most recent call last)",
      "\u001b[0;32m<ipython-input-2-a84508710d2d>\u001b[0m in \u001b[0;36m<module>\u001b[0;34m()\u001b[0m\n\u001b[0;32m----> 1\u001b[0;31m \u001b[0msetHeight\u001b[0m\u001b[0;34m(\u001b[0m\u001b[0;34m\"cat\"\u001b[0m\u001b[0;34m)\u001b[0m\u001b[0;34m\u001b[0m\u001b[0m\n\u001b[0m",
      "\u001b[0;32m<ipython-input-1-35fed253919f>\u001b[0m in \u001b[0;36msetHeight\u001b[0;34m(height)\u001b[0m\n\u001b[1;32m      1\u001b[0m \u001b[0;32mdef\u001b[0m \u001b[0msetHeight\u001b[0m\u001b[0;34m(\u001b[0m\u001b[0mheight\u001b[0m\u001b[0;34m)\u001b[0m\u001b[0;34m:\u001b[0m\u001b[0;34m\u001b[0m\u001b[0m\n\u001b[0;32m----> 2\u001b[0;31m     \u001b[0;32mif\u001b[0m \u001b[0mheight\u001b[0m \u001b[0;34m<\u001b[0m \u001b[0;36m0\u001b[0m \u001b[0;32mor\u001b[0m \u001b[0mheight\u001b[0m \u001b[0;34m>\u001b[0m \u001b[0;36m2.5\u001b[0m\u001b[0;34m:\u001b[0m\u001b[0;34m\u001b[0m\u001b[0m\n\u001b[0m\u001b[1;32m      3\u001b[0m         \u001b[0;32mraise\u001b[0m \u001b[0mValueError\u001b[0m\u001b[0;34m(\u001b[0m\u001b[0;34m\"Invalid height: %s. This should be between 0 and 2.5 m\"\u001b[0m \u001b[0;34m%\u001b[0m \u001b[0mheight\u001b[0m\u001b[0;34m)\u001b[0m\u001b[0;34m\u001b[0m\u001b[0m\n\u001b[1;32m      4\u001b[0m     \u001b[0mprint\u001b[0m\u001b[0;34m(\u001b[0m\u001b[0;34m\"setting the height to %s\"\u001b[0m \u001b[0;34m%\u001b[0m \u001b[0mheight\u001b[0m\u001b[0;34m)\u001b[0m\u001b[0;34m\u001b[0m\u001b[0m\n",
      "\u001b[0;31mTypeError\u001b[0m: unorderable types: str() < int()"
     ]
    }
   ],
   "source": [
    "setHeight(\"cat\")"
   ]
  },
  {
   "cell_type": "markdown",
   "metadata": {},
   "source": [
    "We get a weird error message that says we have a `TypeError`, as you cannot order a string and an integer.\n",
    "\n",
    "One way to address this is to ask that `height` is converted to a `float`, using `height = float(height)`"
   ]
  },
  {
   "cell_type": "code",
   "execution_count": 3,
   "metadata": {},
   "outputs": [],
   "source": [
    "def setHeight(height):\n",
    "    height = float(height)\n",
    "    \n",
    "    if height < 0 or height > 2.5:\n",
    "        raise ValueError(\"Invalid height: %s. This should be between 0 and 2.5 m\" % height)\n",
    "    print(\"setting the height to %s\" % height)"
   ]
  },
  {
   "cell_type": "markdown",
   "metadata": {},
   "source": [
    "However, this hasn't made the error any easier to understand, as we now get a `ValueError` raised..."
   ]
  },
  {
   "cell_type": "code",
   "execution_count": 4,
   "metadata": {},
   "outputs": [
    {
     "ename": "ValueError",
     "evalue": "could not convert string to float: 'cat'",
     "output_type": "error",
     "traceback": [
      "\u001b[0;31m---------------------------------------------------------------------------\u001b[0m",
      "\u001b[0;31mValueError\u001b[0m                                Traceback (most recent call last)",
      "\u001b[0;32m<ipython-input-4-a84508710d2d>\u001b[0m in \u001b[0;36m<module>\u001b[0;34m()\u001b[0m\n\u001b[0;32m----> 1\u001b[0;31m \u001b[0msetHeight\u001b[0m\u001b[0;34m(\u001b[0m\u001b[0;34m\"cat\"\u001b[0m\u001b[0;34m)\u001b[0m\u001b[0;34m\u001b[0m\u001b[0m\n\u001b[0m",
      "\u001b[0;32m<ipython-input-3-9c5d65499179>\u001b[0m in \u001b[0;36msetHeight\u001b[0;34m(height)\u001b[0m\n\u001b[1;32m      1\u001b[0m \u001b[0;32mdef\u001b[0m \u001b[0msetHeight\u001b[0m\u001b[0;34m(\u001b[0m\u001b[0mheight\u001b[0m\u001b[0;34m)\u001b[0m\u001b[0;34m:\u001b[0m\u001b[0;34m\u001b[0m\u001b[0m\n\u001b[0;32m----> 2\u001b[0;31m     \u001b[0mheight\u001b[0m \u001b[0;34m=\u001b[0m \u001b[0mfloat\u001b[0m\u001b[0;34m(\u001b[0m\u001b[0mheight\u001b[0m\u001b[0;34m)\u001b[0m\u001b[0;34m\u001b[0m\u001b[0m\n\u001b[0m\u001b[1;32m      3\u001b[0m \u001b[0;34m\u001b[0m\u001b[0m\n\u001b[1;32m      4\u001b[0m     \u001b[0;32mif\u001b[0m \u001b[0mheight\u001b[0m \u001b[0;34m<\u001b[0m \u001b[0;36m0\u001b[0m \u001b[0;32mor\u001b[0m \u001b[0mheight\u001b[0m \u001b[0;34m>\u001b[0m \u001b[0;36m2.5\u001b[0m\u001b[0;34m:\u001b[0m\u001b[0;34m\u001b[0m\u001b[0m\n\u001b[1;32m      5\u001b[0m         \u001b[0;32mraise\u001b[0m \u001b[0mValueError\u001b[0m\u001b[0;34m(\u001b[0m\u001b[0;34m\"Invalid height: %s. This should be between 0 and 2.5 m\"\u001b[0m \u001b[0;34m%\u001b[0m \u001b[0mheight\u001b[0m\u001b[0;34m)\u001b[0m\u001b[0;34m\u001b[0m\u001b[0m\n",
      "\u001b[0;31mValueError\u001b[0m: could not convert string to float: 'cat'"
     ]
    }
   ],
   "source": [
    "setHeight(\"cat\")"
   ]
  },
  {
   "cell_type": "markdown",
   "metadata": {},
   "source": [
    "The solution is for us to handle the exception, using a `try...except` block"
   ]
  },
  {
   "cell_type": "code",
   "execution_count": 5,
   "metadata": {
    "collapsed": true
   },
   "outputs": [],
   "source": [
    "def setHeight(height):\n",
    "    try:\n",
    "        height = float(height)\n",
    "    except:\n",
    "        raise TypeError(\"Invalid height: '%s'. You can only set the height to a numeric value\" % height)\n",
    "    \n",
    "    if height < 0 or height > 2.5:\n",
    "        raise ValueError(\"Invalid height: %s. This should be between 0 and 2.5 m\" % height)\n",
    "    print(\"setting the height to %s\" % height)"
   ]
  },
  {
   "cell_type": "code",
   "execution_count": 6,
   "metadata": {},
   "outputs": [
    {
     "ename": "TypeError",
     "evalue": "Invalid height: 'cat'. You can only set the height to a numeric value",
     "output_type": "error",
     "traceback": [
      "\u001b[0;31m---------------------------------------------------------------------------\u001b[0m",
      "\u001b[0;31mValueError\u001b[0m                                Traceback (most recent call last)",
      "\u001b[0;32m<ipython-input-5-65dfe4215877>\u001b[0m in \u001b[0;36msetHeight\u001b[0;34m(height)\u001b[0m\n\u001b[1;32m      2\u001b[0m     \u001b[0;32mtry\u001b[0m\u001b[0;34m:\u001b[0m\u001b[0;34m\u001b[0m\u001b[0m\n\u001b[0;32m----> 3\u001b[0;31m         \u001b[0mheight\u001b[0m \u001b[0;34m=\u001b[0m \u001b[0mfloat\u001b[0m\u001b[0;34m(\u001b[0m\u001b[0mheight\u001b[0m\u001b[0;34m)\u001b[0m\u001b[0;34m\u001b[0m\u001b[0m\n\u001b[0m\u001b[1;32m      4\u001b[0m     \u001b[0;32mexcept\u001b[0m\u001b[0;34m:\u001b[0m\u001b[0;34m\u001b[0m\u001b[0m\n",
      "\u001b[0;31mValueError\u001b[0m: could not convert string to float: 'cat'",
      "\nDuring handling of the above exception, another exception occurred:\n",
      "\u001b[0;31mTypeError\u001b[0m                                 Traceback (most recent call last)",
      "\u001b[0;32m<ipython-input-6-a84508710d2d>\u001b[0m in \u001b[0;36m<module>\u001b[0;34m()\u001b[0m\n\u001b[0;32m----> 1\u001b[0;31m \u001b[0msetHeight\u001b[0m\u001b[0;34m(\u001b[0m\u001b[0;34m\"cat\"\u001b[0m\u001b[0;34m)\u001b[0m\u001b[0;34m\u001b[0m\u001b[0m\n\u001b[0m",
      "\u001b[0;32m<ipython-input-5-65dfe4215877>\u001b[0m in \u001b[0;36msetHeight\u001b[0;34m(height)\u001b[0m\n\u001b[1;32m      3\u001b[0m         \u001b[0mheight\u001b[0m \u001b[0;34m=\u001b[0m \u001b[0mfloat\u001b[0m\u001b[0;34m(\u001b[0m\u001b[0mheight\u001b[0m\u001b[0;34m)\u001b[0m\u001b[0;34m\u001b[0m\u001b[0m\n\u001b[1;32m      4\u001b[0m     \u001b[0;32mexcept\u001b[0m\u001b[0;34m:\u001b[0m\u001b[0;34m\u001b[0m\u001b[0m\n\u001b[0;32m----> 5\u001b[0;31m         \u001b[0;32mraise\u001b[0m \u001b[0mTypeError\u001b[0m\u001b[0;34m(\u001b[0m\u001b[0;34m\"Invalid height: '%s'. You can only set the height to a numeric value\"\u001b[0m \u001b[0;34m%\u001b[0m \u001b[0mheight\u001b[0m\u001b[0;34m)\u001b[0m\u001b[0;34m\u001b[0m\u001b[0m\n\u001b[0m\u001b[1;32m      6\u001b[0m \u001b[0;34m\u001b[0m\u001b[0m\n\u001b[1;32m      7\u001b[0m     \u001b[0;32mif\u001b[0m \u001b[0mheight\u001b[0m \u001b[0;34m<\u001b[0m \u001b[0;36m0\u001b[0m \u001b[0;32mor\u001b[0m \u001b[0mheight\u001b[0m \u001b[0;34m>\u001b[0m \u001b[0;36m2.5\u001b[0m\u001b[0;34m:\u001b[0m\u001b[0;34m\u001b[0m\u001b[0m\n",
      "\u001b[0;31mTypeError\u001b[0m: Invalid height: 'cat'. You can only set the height to a numeric value"
     ]
    }
   ],
   "source": [
    "setHeight(\"cat\")"
   ]
  },
  {
   "cell_type": "markdown",
   "metadata": {},
   "source": [
    "What's happened here? The `try:` line starts a try-block. The code that is in the try-block is run. If any of this code raises an exception, then execution stops in the try-block, and switches instead to the code in the except-block (everything within the `except:` block). In our case, `float(height)` raised an exception, so execution jumped to the except-block, in which we ran the `raise TypeError(...)` code.\n",
    "\n",
    "Now the error is much more informative, allowing the user to better understand what has gone wrong. However, exception handling can do more than this. It can allow you to fix the problem. Consider this example..."
   ]
  },
  {
   "cell_type": "code",
   "execution_count": 7,
   "metadata": {},
   "outputs": [
    {
     "ename": "TypeError",
     "evalue": "Invalid height: '1.8 m'. You can only set the height to a numeric value",
     "output_type": "error",
     "traceback": [
      "\u001b[0;31m---------------------------------------------------------------------------\u001b[0m",
      "\u001b[0;31mValueError\u001b[0m                                Traceback (most recent call last)",
      "\u001b[0;32m<ipython-input-5-65dfe4215877>\u001b[0m in \u001b[0;36msetHeight\u001b[0;34m(height)\u001b[0m\n\u001b[1;32m      2\u001b[0m     \u001b[0;32mtry\u001b[0m\u001b[0;34m:\u001b[0m\u001b[0;34m\u001b[0m\u001b[0m\n\u001b[0;32m----> 3\u001b[0;31m         \u001b[0mheight\u001b[0m \u001b[0;34m=\u001b[0m \u001b[0mfloat\u001b[0m\u001b[0;34m(\u001b[0m\u001b[0mheight\u001b[0m\u001b[0;34m)\u001b[0m\u001b[0;34m\u001b[0m\u001b[0m\n\u001b[0m\u001b[1;32m      4\u001b[0m     \u001b[0;32mexcept\u001b[0m\u001b[0;34m:\u001b[0m\u001b[0;34m\u001b[0m\u001b[0m\n",
      "\u001b[0;31mValueError\u001b[0m: could not convert string to float: '1.8 m'",
      "\nDuring handling of the above exception, another exception occurred:\n",
      "\u001b[0;31mTypeError\u001b[0m                                 Traceback (most recent call last)",
      "\u001b[0;32m<ipython-input-7-17945eae5425>\u001b[0m in \u001b[0;36m<module>\u001b[0;34m()\u001b[0m\n\u001b[0;32m----> 1\u001b[0;31m \u001b[0msetHeight\u001b[0m\u001b[0;34m(\u001b[0m\u001b[0;34m\"1.8 m\"\u001b[0m\u001b[0;34m)\u001b[0m\u001b[0;34m\u001b[0m\u001b[0m\n\u001b[0m",
      "\u001b[0;32m<ipython-input-5-65dfe4215877>\u001b[0m in \u001b[0;36msetHeight\u001b[0;34m(height)\u001b[0m\n\u001b[1;32m      3\u001b[0m         \u001b[0mheight\u001b[0m \u001b[0;34m=\u001b[0m \u001b[0mfloat\u001b[0m\u001b[0;34m(\u001b[0m\u001b[0mheight\u001b[0m\u001b[0;34m)\u001b[0m\u001b[0;34m\u001b[0m\u001b[0m\n\u001b[1;32m      4\u001b[0m     \u001b[0;32mexcept\u001b[0m\u001b[0;34m:\u001b[0m\u001b[0;34m\u001b[0m\u001b[0m\n\u001b[0;32m----> 5\u001b[0;31m         \u001b[0;32mraise\u001b[0m \u001b[0mTypeError\u001b[0m\u001b[0;34m(\u001b[0m\u001b[0;34m\"Invalid height: '%s'. You can only set the height to a numeric value\"\u001b[0m \u001b[0;34m%\u001b[0m \u001b[0mheight\u001b[0m\u001b[0;34m)\u001b[0m\u001b[0;34m\u001b[0m\u001b[0m\n\u001b[0m\u001b[1;32m      6\u001b[0m \u001b[0;34m\u001b[0m\u001b[0m\n\u001b[1;32m      7\u001b[0m     \u001b[0;32mif\u001b[0m \u001b[0mheight\u001b[0m \u001b[0;34m<\u001b[0m \u001b[0;36m0\u001b[0m \u001b[0;32mor\u001b[0m \u001b[0mheight\u001b[0m \u001b[0;34m>\u001b[0m \u001b[0;36m2.5\u001b[0m\u001b[0;34m:\u001b[0m\u001b[0;34m\u001b[0m\u001b[0m\n",
      "\u001b[0;31mTypeError\u001b[0m: Invalid height: '1.8 m'. You can only set the height to a numeric value"
     ]
    }
   ],
   "source": [
    "setHeight(\"1.8 m\")"
   ]
  },
  {
   "cell_type": "markdown",
   "metadata": {},
   "source": [
    "We as humans can see that this could be an acceptable input. However, the computer needs help to understand. We can add code to the except-block that can try to resolve the problem. For example, imagine we had a function that could interpret heights from strings..."
   ]
  },
  {
   "cell_type": "code",
   "execution_count": 8,
   "metadata": {
    "collapsed": true
   },
   "outputs": [],
   "source": [
    "def string_to_height(height):\n",
    "    \"\"\"This function tries to interpret the passed argument as a height \n",
    "       in meters. The format should be 'X m', 'X meter' or 'X meters',\n",
    "       where 'X' is a number\n",
    "    \"\"\"\n",
    "    # convert height to a string - this always works\n",
    "    height = str(height)\n",
    "        \n",
    "    words = height.split(\" \")\n",
    "            \n",
    "    if len(words) == 2:\n",
    "        if words[1] == \"m\" or words[1] == \"meter\" or words[1] == \"meters\":\n",
    "            try:\n",
    "                return float(words[0])\n",
    "            except:\n",
    "                pass\n",
    "    \n",
    "    # Getting here means that we haven't been able to extract a valid height\n",
    "    raise TypeError(\"Cannot extract a valid height from '%s'\" % height)"
   ]
  },
  {
   "cell_type": "markdown",
   "metadata": {},
   "source": [
    "We can now call this function from within the except-block of `setHeight`"
   ]
  },
  {
   "cell_type": "code",
   "execution_count": 9,
   "metadata": {},
   "outputs": [],
   "source": [
    "def setHeight(height):\n",
    "    try:\n",
    "        height = float(height)\n",
    "    except:\n",
    "        height = string_to_height(height)\n",
    "    \n",
    "    if height < 0 or height > 2.5:\n",
    "        raise ValueError(\"Invalid height: %s. This should be between 0 and 2.5 m\" % height)\n",
    "    print(\"setting the height to %s\" % height)"
   ]
  },
  {
   "cell_type": "code",
   "execution_count": 10,
   "metadata": {},
   "outputs": [
    {
     "name": "stdout",
     "output_type": "stream",
     "text": [
      "setting the height to 1.8\n"
     ]
    }
   ],
   "source": [
    "setHeight(\"1.8 m\")"
   ]
  },
  {
   "cell_type": "markdown",
   "metadata": {},
   "source": [
    "# Exercise\n",
    "\n",
    "## Exercise 1\n",
    "\n",
    "Here is a copy of the `Person` class from the last session. Edit the `setHeight` function so that it uses exception handling and the `string_to_height` function to correctly interpret heights such as \"1.8 m\", and so that it gives a useful error message if it is given something weird. Check that the function correctly responds to a range of valid and invalid inputs."
   ]
  },
  {
   "cell_type": "code",
   "execution_count": 11,
   "metadata": {
    "collapsed": true
   },
   "outputs": [],
   "source": [
    "class Person:\n",
    "    \"\"\"Class that holds a person's height\"\"\"\n",
    "    def __init__(self, height=0, weight=0):\n",
    "        \"\"\"Construct a person with the specified name, height and weight\"\"\"\n",
    "        self.setHeight(height)\n",
    "        self.setWeight(weight)\n",
    "    \n",
    "    def setHeight(self, height):\n",
    "        \"\"\"Set the person's height in meters\"\"\"\n",
    "        try:\n",
    "            height = float(height)\n",
    "        except:\n",
    "            height = string_to_height(height)\n",
    "            \n",
    "        if height < 0 or height > 2.5:\n",
    "            raise ValueError(\"Invalid height: %s. This shoud be between 0 and 2.5 meters\" % height)\n",
    "        self._height = height\n",
    "    \n",
    "    def setWeight(self, weight):\n",
    "        \"\"\"Set the person's weight in kilograms\"\"\"\n",
    "        if weight < 0 or weight > 500:\n",
    "            raise ValueError(\"Invalid weight: %s. This should be between 0 and 500 kilograms\" % weight)\n",
    "        self._weight = weight\n",
    "        \n",
    "    def getHeight(self):\n",
    "        \"\"\"Return the person's height in meters\"\"\"\n",
    "        return self._height\n",
    "    \n",
    "    def getWeight(self):\n",
    "        \"\"\"Return the person's weight in kilograms\"\"\"\n",
    "        return self._weight\n",
    "    \n",
    "    def bmi(self):\n",
    "        \"\"\"Return the person's body mass index (bmi)\"\"\"\n",
    "        if (self.getHeight() == 0 or self.getWeight() == 0):\n",
    "            raise NullPersonError(\"Cannot calculate the BMI of a person with zero \"\n",
    "                                  \"height or weight (%s,%s)\" % (self.getHeight(),self.getWeight()))\n",
    "            \n",
    "        return self.getWeight() / self.getHeight()**2"
   ]
  },
  {
   "cell_type": "code",
   "execution_count": 12,
   "metadata": {},
   "outputs": [
    {
     "ename": "TypeError",
     "evalue": "Cannot extract a valid height from 'cat'",
     "output_type": "error",
     "traceback": [
      "\u001b[0;31m---------------------------------------------------------------------------\u001b[0m",
      "\u001b[0;31mValueError\u001b[0m                                Traceback (most recent call last)",
      "\u001b[0;32m<ipython-input-11-575813bc64f8>\u001b[0m in \u001b[0;36msetHeight\u001b[0;34m(self, height)\u001b[0m\n\u001b[1;32m     10\u001b[0m         \u001b[0;32mtry\u001b[0m\u001b[0;34m:\u001b[0m\u001b[0;34m\u001b[0m\u001b[0m\n\u001b[0;32m---> 11\u001b[0;31m             \u001b[0mheight\u001b[0m \u001b[0;34m=\u001b[0m \u001b[0mfloat\u001b[0m\u001b[0;34m(\u001b[0m\u001b[0mheight\u001b[0m\u001b[0;34m)\u001b[0m\u001b[0;34m\u001b[0m\u001b[0m\n\u001b[0m\u001b[1;32m     12\u001b[0m         \u001b[0;32mexcept\u001b[0m\u001b[0;34m:\u001b[0m\u001b[0;34m\u001b[0m\u001b[0m\n",
      "\u001b[0;31mValueError\u001b[0m: could not convert string to float: 'cat'",
      "\nDuring handling of the above exception, another exception occurred:\n",
      "\u001b[0;31mTypeError\u001b[0m                                 Traceback (most recent call last)",
      "\u001b[0;32m<ipython-input-12-1d63e4e12dc7>\u001b[0m in \u001b[0;36m<module>\u001b[0;34m()\u001b[0m\n\u001b[0;32m----> 1\u001b[0;31m \u001b[0mp\u001b[0m \u001b[0;34m=\u001b[0m \u001b[0mPerson\u001b[0m\u001b[0;34m(\u001b[0m\u001b[0mheight\u001b[0m\u001b[0;34m=\u001b[0m\u001b[0;34m\"cat\"\u001b[0m\u001b[0;34m,\u001b[0m \u001b[0mweight\u001b[0m\u001b[0;34m=\u001b[0m\u001b[0;36m20\u001b[0m\u001b[0;34m)\u001b[0m\u001b[0;34m\u001b[0m\u001b[0m\n\u001b[0m",
      "\u001b[0;32m<ipython-input-11-575813bc64f8>\u001b[0m in \u001b[0;36m__init__\u001b[0;34m(self, height, weight)\u001b[0m\n\u001b[1;32m      3\u001b[0m     \u001b[0;32mdef\u001b[0m \u001b[0m__init__\u001b[0m\u001b[0;34m(\u001b[0m\u001b[0mself\u001b[0m\u001b[0;34m,\u001b[0m \u001b[0mheight\u001b[0m\u001b[0;34m=\u001b[0m\u001b[0;36m0\u001b[0m\u001b[0;34m,\u001b[0m \u001b[0mweight\u001b[0m\u001b[0;34m=\u001b[0m\u001b[0;36m0\u001b[0m\u001b[0;34m)\u001b[0m\u001b[0;34m:\u001b[0m\u001b[0;34m\u001b[0m\u001b[0m\n\u001b[1;32m      4\u001b[0m         \u001b[0;34m\"\"\"Construct a person with the specified name, height and weight\"\"\"\u001b[0m\u001b[0;34m\u001b[0m\u001b[0m\n\u001b[0;32m----> 5\u001b[0;31m         \u001b[0mself\u001b[0m\u001b[0;34m.\u001b[0m\u001b[0msetHeight\u001b[0m\u001b[0;34m(\u001b[0m\u001b[0mheight\u001b[0m\u001b[0;34m)\u001b[0m\u001b[0;34m\u001b[0m\u001b[0m\n\u001b[0m\u001b[1;32m      6\u001b[0m         \u001b[0mself\u001b[0m\u001b[0;34m.\u001b[0m\u001b[0msetWeight\u001b[0m\u001b[0;34m(\u001b[0m\u001b[0mweight\u001b[0m\u001b[0;34m)\u001b[0m\u001b[0;34m\u001b[0m\u001b[0m\n\u001b[1;32m      7\u001b[0m \u001b[0;34m\u001b[0m\u001b[0m\n",
      "\u001b[0;32m<ipython-input-11-575813bc64f8>\u001b[0m in \u001b[0;36msetHeight\u001b[0;34m(self, height)\u001b[0m\n\u001b[1;32m     11\u001b[0m             \u001b[0mheight\u001b[0m \u001b[0;34m=\u001b[0m \u001b[0mfloat\u001b[0m\u001b[0;34m(\u001b[0m\u001b[0mheight\u001b[0m\u001b[0;34m)\u001b[0m\u001b[0;34m\u001b[0m\u001b[0m\n\u001b[1;32m     12\u001b[0m         \u001b[0;32mexcept\u001b[0m\u001b[0;34m:\u001b[0m\u001b[0;34m\u001b[0m\u001b[0m\n\u001b[0;32m---> 13\u001b[0;31m             \u001b[0mheight\u001b[0m \u001b[0;34m=\u001b[0m \u001b[0mstring_to_height\u001b[0m\u001b[0;34m(\u001b[0m\u001b[0mheight\u001b[0m\u001b[0;34m)\u001b[0m\u001b[0;34m\u001b[0m\u001b[0m\n\u001b[0m\u001b[1;32m     14\u001b[0m \u001b[0;34m\u001b[0m\u001b[0m\n\u001b[1;32m     15\u001b[0m         \u001b[0;32mif\u001b[0m \u001b[0mheight\u001b[0m \u001b[0;34m<\u001b[0m \u001b[0;36m0\u001b[0m \u001b[0;32mor\u001b[0m \u001b[0mheight\u001b[0m \u001b[0;34m>\u001b[0m \u001b[0;36m2.5\u001b[0m\u001b[0;34m:\u001b[0m\u001b[0;34m\u001b[0m\u001b[0m\n",
      "\u001b[0;32m<ipython-input-8-0aa7ec4a5285>\u001b[0m in \u001b[0;36mstring_to_height\u001b[0;34m(height)\u001b[0m\n\u001b[1;32m     17\u001b[0m \u001b[0;34m\u001b[0m\u001b[0m\n\u001b[1;32m     18\u001b[0m     \u001b[0;31m# Getting here means that we haven't been able to extract a valid height\u001b[0m\u001b[0;34m\u001b[0m\u001b[0;34m\u001b[0m\u001b[0m\n\u001b[0;32m---> 19\u001b[0;31m     \u001b[0;32mraise\u001b[0m \u001b[0mTypeError\u001b[0m\u001b[0;34m(\u001b[0m\u001b[0;34m\"Cannot extract a valid height from '%s'\"\u001b[0m \u001b[0;34m%\u001b[0m \u001b[0mheight\u001b[0m\u001b[0;34m)\u001b[0m\u001b[0;34m\u001b[0m\u001b[0m\n\u001b[0m",
      "\u001b[0;31mTypeError\u001b[0m: Cannot extract a valid height from 'cat'"
     ]
    }
   ],
   "source": [
    "p = Person(height=\"cat\", weight=20)"
   ]
  },
  {
   "cell_type": "markdown",
   "metadata": {},
   "source": [
    "## Exercise 2\n",
    "\n",
    "Create a `string_to_weight` function that interprets weights in kilograms (e.g. \"5 kg\", \"5 kilos\" or \"5 kilograms\"). Now edit the `Person.setWeight` function so that it uses exception handling and `string_to_weight` to to correctly interpret weights such as `35.5 kg` and gives a useful error message if it is given something weird. Check that your function responds correctly to a range of valid and invalid inputs."
   ]
  },
  {
   "cell_type": "code",
   "execution_count": 13,
   "metadata": {
    "collapsed": true
   },
   "outputs": [],
   "source": [
    "def string_to_weight(weight):\n",
    "    \"\"\"This function tries to interpret the passed argument as a weight \n",
    "       in kilograms. The format should be 'X kg' 'X kilogram' or 'X kilograms',\n",
    "       where 'X' is a number\n",
    "    \"\"\"\n",
    "    # convert weight to a string - this always works\n",
    "    weight = str(weight)\n",
    "        \n",
    "    words = weight.split(\" \")\n",
    "            \n",
    "    if len(words) == 2:\n",
    "        if words[1] == \"kg\" or words[1] == \"kilogram\" or words[1] == \"kilograms\" \\\n",
    "            or words[1] == \"kilo\" or words[1] == \"kilos\":\n",
    "            try:\n",
    "                return float(words[0])\n",
    "            except:\n",
    "                pass\n",
    "    \n",
    "    # Getting here means that we haven't been able to extract a valid weight\n",
    "    raise TypeError(\"Cannot extract a valid weight from '%s'\" % weight)"
   ]
  },
  {
   "cell_type": "code",
   "execution_count": 14,
   "metadata": {
    "collapsed": true
   },
   "outputs": [],
   "source": [
    "class Person:\n",
    "    \"\"\"Class that holds a person's height\"\"\"\n",
    "    def __init__(self, height=0, weight=0):\n",
    "        \"\"\"Construct a person with the specified name, height and weight\"\"\"\n",
    "        self.setHeight(height)\n",
    "        self.setWeight(weight)\n",
    "    \n",
    "    def setHeight(self, height):\n",
    "        \"\"\"Set the person's height in meters\"\"\"\n",
    "        try:\n",
    "            height = float(height)\n",
    "        except:\n",
    "            height = string_to_height(height)\n",
    "            \n",
    "        if height < 0 or height > 2.5:\n",
    "            raise ValueError(\"Invalid height: %s. This shoud be between 0 and 2.5 meters\" % height)\n",
    "        self._height = height\n",
    "    \n",
    "    def setWeight(self, weight):\n",
    "        \"\"\"Set the person's weight in kilograms\"\"\"\n",
    "        try:\n",
    "            weight = float(weight)\n",
    "        except:\n",
    "            weight = string_to_weight(weight)\n",
    "        if weight < 0 or weight > 500:\n",
    "            raise ValueError(\"Invalid weight: %s. This should be between 0 and 500 kilograms\" % weight)\n",
    "        self._weight = weight\n",
    "        \n",
    "    def getHeight(self):\n",
    "        \"\"\"Return the person's height in meters\"\"\"\n",
    "        return self._height\n",
    "    \n",
    "    def getWeight(self):\n",
    "        \"\"\"Return the person's weight in kilograms\"\"\"\n",
    "        return self._weight\n",
    "    \n",
    "    def bmi(self):\n",
    "        \"\"\"Return the person's body mass index (bmi)\"\"\"\n",
    "        if (self.getHeight() == 0 or self.getWeight() == 0):\n",
    "            raise NullPersonError(\"Cannot calculate the BMI of a person with zero \"\n",
    "                                  \"height or weight (%s,%s)\" % (self.getHeight(),self.getWeight()))\n",
    "            \n",
    "        return self.getWeight() / self.getHeight()**2"
   ]
  },
  {
   "cell_type": "code",
   "execution_count": 15,
   "metadata": {},
   "outputs": [],
   "source": [
    "p = Person(weight=\"55.6 kilos\", height=\"1.5 meters\")"
   ]
  },
  {
   "cell_type": "code",
   "execution_count": null,
   "metadata": {
    "collapsed": true
   },
   "outputs": [],
   "source": []
  }
 ],
 "metadata": {
  "kernelspec": {
   "display_name": "Python 3",
   "language": "python",
   "name": "python3"
  },
  "language_info": {
   "codemirror_mode": {
    "name": "ipython",
    "version": 3
   },
   "file_extension": ".py",
   "mimetype": "text/x-python",
   "name": "python",
   "nbconvert_exporter": "python",
   "pygments_lexer": "ipython3",
   "version": "3.5.3"
  }
 },
 "nbformat": 4,
 "nbformat_minor": 2
}
