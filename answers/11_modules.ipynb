{
 "cells": [
  {
   "cell_type": "markdown",
   "metadata": {},
   "source": [
    "# Modules\n",
    "\n",
    "You can turn any Python script that you write into a module that other people can import and use in their own code.\n",
    "\n",
    "For example;"
   ]
  },
  {
   "cell_type": "code",
   "execution_count": 1,
   "metadata": {},
   "outputs": [
    {
     "name": "stdout",
     "output_type": "stream",
     "text": [
      "Is it a bird? Is it a plane? No, it's Superman!!!\n",
      "Superman will battle Lex Luther. The winner is Superman\n",
      "Lex steals some krytonite...\n",
      "They battle again... The winner is Lex Luther\n"
     ]
    }
   ],
   "source": [
    "import superhero"
   ]
  },
  {
   "cell_type": "markdown",
   "metadata": {},
   "source": [
    "What has happened here???\n",
    "\n",
    "There is a file in your current directory called `superhero.py`. The line `import superhero` will look in the current directory, to find a file called `superhero.py`. It then runs this file, just as if you had typed it into the screen."
   ]
  },
  {
   "cell_type": "markdown",
   "metadata": {},
   "source": [
    "This is just a simple Python script, which we can print out using"
   ]
  },
  {
   "cell_type": "code",
   "execution_count": 2,
   "metadata": {},
   "outputs": [
    {
     "name": "stdout",
     "output_type": "stream",
     "text": [
      "\"\"\"\r\n",
      "This module provides a set of classes for creating superheros\r\n",
      "and supervillains. Have fun!\r\n",
      "\r\n",
      "Author - Christopher Woods\r\n",
      "License - BSD\r\n",
      "\"\"\"\r\n",
      "\r\n",
      "class Superhero:\r\n",
      "    \"\"\"This class allows you to create your own Superhero\"\"\"\r\n",
      "    def __init__(self, name, weakness):\r\n",
      "        \"\"\"Construct a superhero with the specified name and the \r\n",
      "           specified weakness\r\n",
      "        \"\"\"\r\n",
      "        self.setName(name)\r\n",
      "        self.setWeakness(weakness)\r\n",
      "\r\n",
      "    def setName(self, name):\r\n",
      "        \"\"\"Set the name of the superhero\"\"\"\r\n",
      "        self._name = name\r\n",
      "\r\n",
      "    def setWeakness(self, weakness):\r\n",
      "        \"\"\"Set the weakness of the superhero\"\"\"\r\n",
      "        self._weakness = weakness\r\n",
      "\r\n",
      "    def getName(self):\r\n",
      "        \"\"\"Return the name of the superhero\"\"\"\r\n",
      "        return self._name\r\n",
      "\r\n",
      "    def getWeakness(self):\r\n",
      "        \"\"\"Return the weakness of the superhero\"\"\"\r\n",
      "        return self._weakness\r\n",
      "\r\n",
      "    def isVulnerableTo(self, item):\r\n",
      "        \"\"\"Return whether or not this superhero is \r\n",
      "           vulnerable to 'item'\"\"\"\r\n",
      "        return self.getWeakness().lower() == item.lower()\r\n",
      "\r\n",
      "class Supervillain:\r\n",
      "    \"\"\"This class allows you to create your own supervillain\"\"\"\r\n",
      "    def __init__(self, name):\r\n",
      "        self.setName(name)\r\n",
      "        self._loot = []\r\n",
      "\r\n",
      "    def setName(self, name):\r\n",
      "        \"\"\"Set the name of the villain\"\"\"\r\n",
      "        self._name = name\r\n",
      "\r\n",
      "    def getName(self):\r\n",
      "        \"\"\"Return the name of the villain\"\"\"\r\n",
      "        return self._name\r\n",
      "\r\n",
      "    def steal(self, item):\r\n",
      "        \"\"\"Tell the villain to steal 'item'\"\"\"\r\n",
      "        self._loot.append(item)\r\n",
      "\r\n",
      "    def getLoot(self):\r\n",
      "        \"\"\"Return all of the loot that this villain has stolen\"\"\"\r\n",
      "        return self._loot\r\n",
      "\r\n",
      "def battle(superhero, supervillain):\r\n",
      "    \"\"\"This function will pitch the superhero and villain\r\n",
      "       into battle, and will return the name of whoever wins!\r\n",
      "    \"\"\"\r\n",
      "\r\n",
      "    try:\r\n",
      "        for possession in supervillain.getLoot():\r\n",
      "            if superhero.isVulnerableTo(possession):\r\n",
      "                return supervillain.getName()\r\n",
      "        return superhero.getName()\r\n",
      "    except Exception as e:\r\n",
      "        # Draw, so no-one won!\r\n",
      "        return \"No-one, because %s\" % e\r\n",
      "\r\n",
      "superman = Superhero(name=\"Superman\", weakness=\"kryptonite\")\r\n",
      "\r\n",
      "print(\"Is it a bird? Is it a plane? No, it's %s!!!\" % superman.getName())\r\n",
      "\r\n",
      "lex = Supervillain(name=\"Lex Luther\")\r\n",
      "\r\n",
      "print(\"%s will battle %s. The winner is %s\" \\\r\n",
      "  % (superman.getName(), lex.getName(), \\\r\n",
      "     battle(superman, lex) ) )\r\n",
      "\r\n",
      "print(\"Lex steals some krytonite...\")\r\n",
      "lex.steal(\"kryptonite\")\r\n",
      "\r\n",
      "print(\"They battle again... The winner is %s\" \\\r\n",
      "   % battle(superman, lex))\r\n",
      "\r\n",
      "\r\n"
     ]
    }
   ],
   "source": [
    "! cat superhero.py"
   ]
  },
  {
   "cell_type": "markdown",
   "metadata": {},
   "source": [
    "We can get help on the module using `help`"
   ]
  },
  {
   "cell_type": "code",
   "execution_count": 3,
   "metadata": {},
   "outputs": [
    {
     "name": "stdout",
     "output_type": "stream",
     "text": [
      "Help on module superhero:\n",
      "\n",
      "NAME\n",
      "    superhero\n",
      "\n",
      "DESCRIPTION\n",
      "    This module provides a set of classes for creating superheros\n",
      "    and supervillains. Have fun!\n",
      "    \n",
      "    Author - Christopher Woods\n",
      "    License - BSD\n",
      "\n",
      "CLASSES\n",
      "    builtins.object\n",
      "        Superhero\n",
      "        Supervillain\n",
      "    \n",
      "    class Superhero(builtins.object)\n",
      "     |  This class allows you to create your own Superhero\n",
      "     |  \n",
      "     |  Methods defined here:\n",
      "     |  \n",
      "     |  __init__(self, name, weakness)\n",
      "     |      Construct a superhero with the specified name and the \n",
      "     |      specified weakness\n",
      "     |  \n",
      "     |  getName(self)\n",
      "     |      Return the name of the superhero\n",
      "     |  \n",
      "     |  getWeakness(self)\n",
      "     |      Return the weakness of the superhero\n",
      "     |  \n",
      "     |  isVulnerableTo(self, item)\n",
      "     |      Return whether or not this superhero is \n",
      "     |      vulnerable to 'item'\n",
      "     |  \n",
      "     |  setName(self, name)\n",
      "     |      Set the name of the superhero\n",
      "     |  \n",
      "     |  setWeakness(self, weakness)\n",
      "     |      Set the weakness of the superhero\n",
      "     |  \n",
      "     |  ----------------------------------------------------------------------\n",
      "     |  Data descriptors defined here:\n",
      "     |  \n",
      "     |  __dict__\n",
      "     |      dictionary for instance variables (if defined)\n",
      "     |  \n",
      "     |  __weakref__\n",
      "     |      list of weak references to the object (if defined)\n",
      "    \n",
      "    class Supervillain(builtins.object)\n",
      "     |  This class allows you to create your own supervillain\n",
      "     |  \n",
      "     |  Methods defined here:\n",
      "     |  \n",
      "     |  __init__(self, name)\n",
      "     |      Initialize self.  See help(type(self)) for accurate signature.\n",
      "     |  \n",
      "     |  getLoot(self)\n",
      "     |      Return all of the loot that this villain has stolen\n",
      "     |  \n",
      "     |  getName(self)\n",
      "     |      Return the name of the villain\n",
      "     |  \n",
      "     |  setName(self, name)\n",
      "     |      Set the name of the villain\n",
      "     |  \n",
      "     |  steal(self, item)\n",
      "     |      Tell the villain to steal 'item'\n",
      "     |  \n",
      "     |  ----------------------------------------------------------------------\n",
      "     |  Data descriptors defined here:\n",
      "     |  \n",
      "     |  __dict__\n",
      "     |      dictionary for instance variables (if defined)\n",
      "     |  \n",
      "     |  __weakref__\n",
      "     |      list of weak references to the object (if defined)\n",
      "\n",
      "FUNCTIONS\n",
      "    battle(superhero, supervillain)\n",
      "        This function will pitch the superhero and villain\n",
      "        into battle, and will return the name of whoever wins!\n",
      "\n",
      "DATA\n",
      "    lex = <superhero.Supervillain object>\n",
      "    superman = <superhero.Superhero object>\n",
      "\n",
      "FILE\n",
      "    /home/workshops/python_and_data/answers/superhero.py\n",
      "\n",
      "\n"
     ]
    }
   ],
   "source": [
    "help(superhero)"
   ]
  },
  {
   "cell_type": "markdown",
   "metadata": {},
   "source": [
    "This documentation comes from the class and function documentation put into the file.\n",
    "\n",
    "You can also use the data, classes and functions in the file, e.g."
   ]
  },
  {
   "cell_type": "code",
   "execution_count": 4,
   "metadata": {},
   "outputs": [],
   "source": [
    "ironman = superhero.Superhero(name=\"Iron Man\", weakness=\"rust\")"
   ]
  },
  {
   "cell_type": "code",
   "execution_count": 5,
   "metadata": {},
   "outputs": [
    {
     "data": {
      "text/plain": [
       "'Iron Man'"
      ]
     },
     "execution_count": 5,
     "metadata": {},
     "output_type": "execute_result"
    }
   ],
   "source": [
    "superhero.battle(ironman, superhero.lex)"
   ]
  },
  {
   "cell_type": "code",
   "execution_count": 6,
   "metadata": {},
   "outputs": [],
   "source": [
    "superhero.lex.steal(\"rust\")"
   ]
  },
  {
   "cell_type": "code",
   "execution_count": 7,
   "metadata": {},
   "outputs": [
    {
     "data": {
      "text/plain": [
       "'Lex Luther'"
      ]
     },
     "execution_count": 7,
     "metadata": {},
     "output_type": "execute_result"
    }
   ],
   "source": [
    "superhero.battle(ironman, superhero.lex)"
   ]
  },
  {
   "cell_type": "markdown",
   "metadata": {},
   "source": [
    "One thing to note is that all of the classes, functions and data in the script has been imported into its own namespace, named after the script (e.g. `superhero.`). We can import the file and put all names into the current namespace using"
   ]
  },
  {
   "cell_type": "code",
   "execution_count": 8,
   "metadata": {},
   "outputs": [],
   "source": [
    "from superhero import *"
   ]
  },
  {
   "cell_type": "code",
   "execution_count": 9,
   "metadata": {},
   "outputs": [
    {
     "data": {
      "text/plain": [
       "'Lex Luther'"
      ]
     },
     "execution_count": 9,
     "metadata": {},
     "output_type": "execute_result"
    }
   ],
   "source": [
    "battle(ironman, lex)"
   ]
  },
  {
   "cell_type": "markdown",
   "metadata": {},
   "source": [
    "While any python script can be imported as a module, there are a few conventions you should follow that will make your module easier for others to use.\n",
    "\n",
    "* Add documentation to the module. As you can see, there is a docstring at the top of `superhero.py`, which is the first thing written out by help(). This should provide an overview of the module.\n",
    "* Avoid actually running any code or creating any variables. The current `superhero.py` is bad as it does this, which is why you see \"Is it a bird...\" printed when you import it!\n",
    "\n",
    "The way to avoid creating any variables or running code is to let the script detect when it is being imported, and to not create any variables if that is the case.\n",
    "\n",
    "You can detect if your Python script is *not* being imported using\n",
    "\n",
    "```python\n",
    "if __name__ == \"__main__\":\n",
    "    print(\"I am not being imported.\")\n",
    "```"
   ]
  },
  {
   "cell_type": "code",
   "execution_count": 10,
   "metadata": {},
   "outputs": [
    {
     "name": "stdout",
     "output_type": "stream",
     "text": [
      "I am not being imported\n"
     ]
    }
   ],
   "source": [
    "if __name__ == \"__main__\":\n",
    "    print(\"I am not being imported\")"
   ]
  },
  {
   "cell_type": "markdown",
   "metadata": {},
   "source": [
    "To show how this works, there is a `superhero2.py` script, which is identical to `superhero.py`, except all code that should not be run on import is hidden inside the `if __name__ == \"__main__\":` block."
   ]
  },
  {
   "cell_type": "code",
   "execution_count": 11,
   "metadata": {},
   "outputs": [
    {
     "name": "stdout",
     "output_type": "stream",
     "text": [
      "\"\"\"\r\n",
      "This module provides a set of classes for creating superheros\r\n",
      "and supervillains. Have fun!\r\n",
      "\r\n",
      "Author - Christopher Woods\r\n",
      "License - BSD\r\n",
      "\"\"\"\r\n",
      "\r\n",
      "class Superhero:\r\n",
      "    \"\"\"This class allows you to create your own Superhero\"\"\"\r\n",
      "    def __init__(self, name, weakness):\r\n",
      "        \"\"\"Construct a superhero with the specified name and the \r\n",
      "           specified weakness\r\n",
      "        \"\"\"\r\n",
      "        self.setName(name)\r\n",
      "        self.setWeakness(weakness)\r\n",
      "\r\n",
      "    def setName(self, name):\r\n",
      "        \"\"\"Set the name of the superhero\"\"\"\r\n",
      "        self._name = name\r\n",
      "\r\n",
      "    def setWeakness(self, weakness):\r\n",
      "        \"\"\"Set the weakness of the superhero\"\"\"\r\n",
      "        self._weakness = weakness\r\n",
      "\r\n",
      "    def getName(self):\r\n",
      "        \"\"\"Return the name of the superhero\"\"\"\r\n",
      "        return self._name\r\n",
      "\r\n",
      "    def getWeakness(self):\r\n",
      "        \"\"\"Return the weakness of the superhero\"\"\"\r\n",
      "        return self._weakness\r\n",
      "\r\n",
      "    def isVulnerableTo(self, item):\r\n",
      "        \"\"\"Return whether or not this superhero is \r\n",
      "           vulnerable to 'item'\"\"\"\r\n",
      "        return self.getWeakness().lower() == item.lower()\r\n",
      "\r\n",
      "class Supervillain:\r\n",
      "    \"\"\"This class allows you to create your own supervillain\"\"\"\r\n",
      "    def __init__(self, name):\r\n",
      "        self.setName(name)\r\n",
      "        self._loot = []\r\n",
      "\r\n",
      "    def setName(self, name):\r\n",
      "        \"\"\"Set the name of the villain\"\"\"\r\n",
      "        self._name = name\r\n",
      "\r\n",
      "    def getName(self):\r\n",
      "        \"\"\"Return the name of the villain\"\"\"\r\n",
      "        return self._name\r\n",
      "\r\n",
      "    def steal(self, item):\r\n",
      "        \"\"\"Tell the villain to steal 'item'\"\"\"\r\n",
      "        self._loot.append(item)\r\n",
      "\r\n",
      "    def getLoot(self):\r\n",
      "        \"\"\"Return all of the loot that this villain has stolen\"\"\"\r\n",
      "        return self._loot\r\n",
      "\r\n",
      "def battle(superhero, supervillain):\r\n",
      "    \"\"\"This function will pitch the superhero and villain\r\n",
      "       into battle, and will return the name of whoever wins!\r\n",
      "    \"\"\"\r\n",
      "\r\n",
      "    try:\r\n",
      "        for possession in supervillain.getLoot():\r\n",
      "            if superhero.isVulnerableTo(possession):\r\n",
      "                return supervillain.getName()\r\n",
      "        return superhero.getName()\r\n",
      "    except Exception as e:\r\n",
      "        # Draw, so no-one won!\r\n",
      "        return \"No-one, because %s\" % e\r\n",
      "\r\n",
      "if __name__ == \"__main__\":\r\n",
      "    superman = Superhero(name=\"Superman\", weakness=\"kryptonite\")\r\n",
      "\r\n",
      "    print(\"Is it a bird? Is it a plane? No, it's %s!!!\" % superman.getName())\r\n",
      "\r\n",
      "    lex = Supervillain(name=\"Lex Luther\")\r\n",
      "\r\n",
      "    print(\"%s will battle %s. The winner is %s\" \\\r\n",
      "       % (superman.getName(), lex.getName(), \\\r\n",
      "          battle(superman, lex) ) )\r\n",
      "\r\n",
      "    print(\"Lex steals some krytonite...\")\r\n",
      "    lex.steal(\"kryptonite\")\r\n",
      "\r\n",
      "    print(\"They battle again... The winner is %s\" \\\r\n",
      "        % battle(superman, lex))\r\n",
      "\r\n"
     ]
    }
   ],
   "source": [
    "! cat superhero2.py"
   ]
  },
  {
   "cell_type": "code",
   "execution_count": 12,
   "metadata": {},
   "outputs": [],
   "source": [
    "import superhero2"
   ]
  },
  {
   "cell_type": "markdown",
   "metadata": {},
   "source": [
    "By using `if __name__ == \"__main__\":` we have prevented `superhero2.py` from printing anything out when it is imported, and have also prevented it from creating the variables `lex` and `superman`.\n",
    "\n",
    "You can see this by running the `superhero2.py` script directory, e.g. using\n",
    "\n",
    "```\n",
    "! python superhero2.py\n",
    "```"
   ]
  },
  {
   "cell_type": "code",
   "execution_count": 13,
   "metadata": {},
   "outputs": [
    {
     "name": "stdout",
     "output_type": "stream",
     "text": [
      "Is it a bird? Is it a plane? No, it's Superman!!!\r\n",
      "Superman will battle Lex Luther. The winner is Superman\r\n",
      "Lex steals some krytonite...\r\n",
      "They battle again... The winner is Lex Luther\r\n"
     ]
    }
   ],
   "source": [
    "! python superhero2.py"
   ]
  },
  {
   "cell_type": "markdown",
   "metadata": {},
   "source": [
    "# Exercise\n",
    "\n",
    "## Exercise 1\n",
    "\n",
    "Use the \"New Text File\" option in the Jupyter Home to create a new python text file called `morse.py`. Copy the below class into this file.\n",
    "\n",
    "```python\n",
    "class Morse:\n",
    "    def __init__(self):\n",
    "        self._letter_to_morse = {'a':'.-', 'b':'-...', 'c':'-.-.', 'd':'-..', 'e':'.', 'f':'..-.',\n",
    "                   'g':'--.', 'h':'....', 'i':'..', 'j':'.---', 'k':'-.-', 'l':'.-..', 'm':'--',\n",
    "                   'n':'-.', 'o':'---', 'p':'.--.', 'q':'--.-', 'r':'.-.', 's':'...', 't':'-',\n",
    "                   'u':'..-', 'v':'...-', 'w':'.--', 'x':'-..-', 'y':'-.--', 'z':'--..',\n",
    "                   '0':'-----', '1':'.----', '2':'..---', '3':'...--', '4':'....-',\n",
    "                   '5':'.....', '6':'-....', '7':'--...', '8':'---..', '9':'----.',\n",
    "                   ' ':'/' }\n",
    "        \n",
    "        self._morse_to_letter = {}\n",
    "        for letter in self._letter_to_morse.keys():\n",
    "            self._morse_to_letter[ self._letter_to_morse[letter] ] = letter\n",
    "        \n",
    "    def encode(self, message):\n",
    "        morse = []\n",
    "        for letter in message:\n",
    "            morse.append( self._letter_to_morse[letter.lower()] )\n",
    "        return morse\n",
    "    \n",
    "    def decode(self, morse):\n",
    "        message = []\n",
    "        for code in morse:\n",
    "            message.append( self._morse_to_letter[code] )\n",
    "        return \"\".join(message)\n",
    "```\n",
    "\n",
    "Add documentation to this class, and to the module. Next, import the module and get help using the commands\n",
    "\n",
    "```python\n",
    "import morse\n",
    "help(morse)\n",
    "```\n",
    "\n",
    "Does your documentation make sense?"
   ]
  },
  {
   "cell_type": "code",
   "execution_count": 14,
   "metadata": {},
   "outputs": [],
   "source": [
    "import morse"
   ]
  },
  {
   "cell_type": "code",
   "execution_count": 15,
   "metadata": {},
   "outputs": [
    {
     "name": "stdout",
     "output_type": "stream",
     "text": [
      "Help on module morse:\n",
      "\n",
      "NAME\n",
      "    morse\n",
      "\n",
      "CLASSES\n",
      "    builtins.object\n",
      "        Morse\n",
      "    \n",
      "    class Morse(builtins.object)\n",
      "     |  Class that can encode and decode messages to/from Morse code\n",
      "     |  \n",
      "     |  Methods defined here:\n",
      "     |  \n",
      "     |  __init__(self)\n",
      "     |      Initialize self.  See help(type(self)) for accurate signature.\n",
      "     |  \n",
      "     |  decode(self, morse)\n",
      "     |      Decodes a passed list of Morse code letters and returns the decoded string\n",
      "     |  \n",
      "     |  encode(self, message)\n",
      "     |      Encode the passed message into Morse code. Returns a list of Morse \n",
      "     |      code letters\n",
      "     |  \n",
      "     |  ----------------------------------------------------------------------\n",
      "     |  Data descriptors defined here:\n",
      "     |  \n",
      "     |  __dict__\n",
      "     |      dictionary for instance variables (if defined)\n",
      "     |  \n",
      "     |  __weakref__\n",
      "     |      list of weak references to the object (if defined)\n",
      "\n",
      "FILE\n",
      "    /home/workshops/python_and_data/answers/morse.py\n",
      "\n",
      "\n"
     ]
    }
   ],
   "source": [
    "help(morse)"
   ]
  },
  {
   "cell_type": "markdown",
   "metadata": {},
   "source": [
    "## Exercise 2\n",
    "\n",
    "Create some checks of your module that should not be run when the module is imported (i.e. only run directly). The checks should be, e.g.\n",
    "\n",
    "```python\n",
    "    morse = Morse()\n",
    "\n",
    "    for message in [\"Hello world\", \"something to encode\", \"test message\"]:\n",
    "        test = morse.decode( morse.encode(message) )\n",
    "\n",
    "        if message.lower() == test: \n",
    "            print(\"Success: %s\" % message)\n",
    "        else:\n",
    "            print(\"Failed: %s\" % message)\n",
    "```\n",
    "\n",
    "Validate that the check doesn't run on import using \n",
    "\n",
    "```python\n",
    "import morse\n",
    "```\n",
    "\n",
    "Validate that the check runs from the command line using\n",
    "\n",
    "```\n",
    "! python morse.py\n",
    "```"
   ]
  },
  {
   "cell_type": "code",
   "execution_count": 16,
   "metadata": {},
   "outputs": [
    {
     "name": "stdout",
     "output_type": "stream",
     "text": [
      "Success: Hello world\r\n",
      "Success: something to encode\r\n",
      "Success: test message\r\n"
     ]
    }
   ],
   "source": [
    "! python morse.py"
   ]
  },
  {
   "cell_type": "code",
   "execution_count": null,
   "metadata": {},
   "outputs": [],
   "source": []
  }
 ],
 "metadata": {
  "kernelspec": {
   "display_name": "Python 3",
   "language": "python",
   "name": "python3"
  },
  "language_info": {
   "codemirror_mode": {
    "name": "ipython",
    "version": 3
   },
   "file_extension": ".py",
   "mimetype": "text/x-python",
   "name": "python",
   "nbconvert_exporter": "python",
   "pygments_lexer": "ipython3",
   "version": "3.5.2"
  }
 },
 "nbformat": 4,
 "nbformat_minor": 2
}
