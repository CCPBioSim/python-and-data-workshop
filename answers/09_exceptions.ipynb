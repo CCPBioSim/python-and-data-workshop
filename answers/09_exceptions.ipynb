{
 "cells": [
  {
   "cell_type": "markdown",
   "metadata": {},
   "source": [
    "# Exceptions\n",
    "\n",
    "Mistakes and errors happen in computer programs as much as in real life. Like life, how you handle an error in your program shows your level of professionalism, and gives others evidence that they can trust that you have written a program that will work well.\n",
    "\n",
    "In the last section we indicated errors in the `Person.setHeight` function by printing a message to the screen and returning `False` to indicate that the call to `setHeight` had failed."
   ]
  },
  {
   "cell_type": "code",
   "execution_count": 1,
   "metadata": {
    "collapsed": true
   },
   "outputs": [],
   "source": [
    "class Person:\n",
    "    \"\"\"Class that holds a person's height\"\"\"\n",
    "    def __init__(self):\n",
    "        \"\"\"Construct a person who has zero height\"\"\"\n",
    "        self._height = 0\n",
    "    \n",
    "    def setHeight(self, height):\n",
    "        \"\"\"Set the person's height to 'height', returning whether or \n",
    "           not the height was set successfully\n",
    "        \"\"\"\n",
    "        if height < 0 or height > 300:\n",
    "            print(\"This is an invalid height! %s\" % height)\n",
    "            return False\n",
    "        else:\n",
    "            self._height = height\n",
    "            return True\n",
    "        \n",
    "    def getHeight(self):\n",
    "        \"\"\"Return the person's height\"\"\"\n",
    "        return self._height"
   ]
  },
  {
   "cell_type": "code",
   "execution_count": 2,
   "metadata": {
    "collapsed": true
   },
   "outputs": [],
   "source": [
    "p = Person()"
   ]
  },
  {
   "cell_type": "code",
   "execution_count": 3,
   "metadata": {},
   "outputs": [
    {
     "name": "stdout",
     "output_type": "stream",
     "text": [
      "This is an invalid height! -20\n"
     ]
    },
    {
     "data": {
      "text/plain": [
       "False"
      ]
     },
     "execution_count": 3,
     "metadata": {},
     "output_type": "execute_result"
    }
   ],
   "source": [
    "p.setHeight(-20)"
   ]
  },
  {
   "cell_type": "markdown",
   "metadata": {},
   "source": [
    "This is not a good way of indicating an error. The issues with this are;\n",
    "\n",
    "* How does the person calling `getHeight` know to check whether the call returns `True` or `False`\n",
    "* What if we wanted to return something else? Should we return the error state and the value we want together?\n",
    "* If the error state is not checked, and nobody reads the error message printed to the screen, then the program is broken, as the person has been created with a height of 0.\n",
    "\n",
    "The solution is to send something to the programmer that they cannot ignore, which indicates that there is an error. That something is called an \"exception\".\n",
    "\n",
    "Take a look at this simple code that sets the height..."
   ]
  },
  {
   "cell_type": "code",
   "execution_count": 4,
   "metadata": {
    "collapsed": true
   },
   "outputs": [],
   "source": [
    "def setHeight(height):\n",
    "    if height < 0 or height > 300:\n",
    "        raise ValueError(\"Invalid height: %s. This should be between 0 and 300\" % height)\n",
    "        \n",
    "    print(\"Height is set to %s\" % height)"
   ]
  },
  {
   "cell_type": "code",
   "execution_count": 5,
   "metadata": {},
   "outputs": [
    {
     "ename": "ValueError",
     "evalue": "Invalid height: -5. This should be between 0 and 300",
     "output_type": "error",
     "traceback": [
      "\u001b[0;31m---------------------------------------------------------------------------\u001b[0m",
      "\u001b[0;31mValueError\u001b[0m                                Traceback (most recent call last)",
      "\u001b[0;32m<ipython-input-5-d79fd1d8e207>\u001b[0m in \u001b[0;36m<module>\u001b[0;34m()\u001b[0m\n\u001b[0;32m----> 1\u001b[0;31m \u001b[0msetHeight\u001b[0m\u001b[0;34m(\u001b[0m\u001b[0;34m-\u001b[0m\u001b[0;36m5\u001b[0m\u001b[0;34m)\u001b[0m\u001b[0;34m\u001b[0m\u001b[0m\n\u001b[0m",
      "\u001b[0;32m<ipython-input-4-1e09cd9970ae>\u001b[0m in \u001b[0;36msetHeight\u001b[0;34m(height)\u001b[0m\n\u001b[1;32m      1\u001b[0m \u001b[0;32mdef\u001b[0m \u001b[0msetHeight\u001b[0m\u001b[0;34m(\u001b[0m\u001b[0mheight\u001b[0m\u001b[0;34m)\u001b[0m\u001b[0;34m:\u001b[0m\u001b[0;34m\u001b[0m\u001b[0m\n\u001b[1;32m      2\u001b[0m     \u001b[0;32mif\u001b[0m \u001b[0mheight\u001b[0m \u001b[0;34m<\u001b[0m \u001b[0;36m0\u001b[0m \u001b[0;32mor\u001b[0m \u001b[0mheight\u001b[0m \u001b[0;34m>\u001b[0m \u001b[0;36m300\u001b[0m\u001b[0;34m:\u001b[0m\u001b[0;34m\u001b[0m\u001b[0m\n\u001b[0;32m----> 3\u001b[0;31m         \u001b[0;32mraise\u001b[0m \u001b[0mValueError\u001b[0m\u001b[0;34m(\u001b[0m\u001b[0;34m\"Invalid height: %s. This should be between 0 and 300\"\u001b[0m \u001b[0;34m%\u001b[0m \u001b[0mheight\u001b[0m\u001b[0;34m)\u001b[0m\u001b[0;34m\u001b[0m\u001b[0m\n\u001b[0m\u001b[1;32m      4\u001b[0m \u001b[0;34m\u001b[0m\u001b[0m\n\u001b[1;32m      5\u001b[0m     \u001b[0mprint\u001b[0m\u001b[0;34m(\u001b[0m\u001b[0;34m\"Height is set to %s\"\u001b[0m \u001b[0;34m%\u001b[0m \u001b[0mheight\u001b[0m\u001b[0;34m)\u001b[0m\u001b[0;34m\u001b[0m\u001b[0m\n",
      "\u001b[0;31mValueError\u001b[0m: Invalid height: -5. This should be between 0 and 300"
     ]
    }
   ],
   "source": [
    "setHeight(-5)"
   ]
  },
  {
   "cell_type": "markdown",
   "metadata": {},
   "source": [
    "When we try to use an invalid value for the height, we raise (or throw) a `ValueError` exception. This stops the function from continuing, and gives us a very helpful print out of what went wrong, and where.\n",
    "\n",
    "`ValueError` is just a class. The name of the class provides us with useful information (there was an error with a value in the program). You choose what error you want to raise. Python provides a set of usefully named error classes that you can use:\n",
    "\n",
    "* `IOError` : Error raised when you have a problem with IO, e.g. opening or closing files\n",
    "* `ZeroDivisionError` : Error raised when you divide by zero\n",
    "* `TypeError` : Error raised when you are using the wrong type, e.g. maybe setting the height to a string\n",
    "* `IndexError` : Error raised when you are using an invalid index to access a list or other similar container\n",
    "* `KeyError` : Error raised when you are using an invalid key to access a dictionary or other similar container\n",
    "\n",
    "A full list of standard Python exceptions is [available here](https://docs.python.org/3/library/exceptions.html).\n",
    "\n",
    "You are free to raise any exception class you want. It is your job as a programmer to choose the one that is most sensible, e.g."
   ]
  },
  {
   "cell_type": "code",
   "execution_count": 6,
   "metadata": {
    "collapsed": true
   },
   "outputs": [],
   "source": [
    "def setHeight(height):\n",
    "    if height < 0 or height > 300:\n",
    "        raise ZeroDivisionError(\"Invalid height: %s. This should be between 0 and 300\" % height)\n",
    "        \n",
    "    print(\"Height is set to %s\" % height)"
   ]
  },
  {
   "cell_type": "code",
   "execution_count": 7,
   "metadata": {},
   "outputs": [
    {
     "ename": "ZeroDivisionError",
     "evalue": "Invalid height: 400. This should be between 0 and 300",
     "output_type": "error",
     "traceback": [
      "\u001b[0;31m---------------------------------------------------------------------------\u001b[0m",
      "\u001b[0;31mZeroDivisionError\u001b[0m                         Traceback (most recent call last)",
      "\u001b[0;32m<ipython-input-7-2e20bc96d034>\u001b[0m in \u001b[0;36m<module>\u001b[0;34m()\u001b[0m\n\u001b[0;32m----> 1\u001b[0;31m \u001b[0msetHeight\u001b[0m\u001b[0;34m(\u001b[0m\u001b[0;36m400\u001b[0m\u001b[0;34m)\u001b[0m\u001b[0;34m\u001b[0m\u001b[0m\n\u001b[0m",
      "\u001b[0;32m<ipython-input-6-e27119f86062>\u001b[0m in \u001b[0;36msetHeight\u001b[0;34m(height)\u001b[0m\n\u001b[1;32m      1\u001b[0m \u001b[0;32mdef\u001b[0m \u001b[0msetHeight\u001b[0m\u001b[0;34m(\u001b[0m\u001b[0mheight\u001b[0m\u001b[0;34m)\u001b[0m\u001b[0;34m:\u001b[0m\u001b[0;34m\u001b[0m\u001b[0m\n\u001b[1;32m      2\u001b[0m     \u001b[0;32mif\u001b[0m \u001b[0mheight\u001b[0m \u001b[0;34m<\u001b[0m \u001b[0;36m0\u001b[0m \u001b[0;32mor\u001b[0m \u001b[0mheight\u001b[0m \u001b[0;34m>\u001b[0m \u001b[0;36m300\u001b[0m\u001b[0;34m:\u001b[0m\u001b[0;34m\u001b[0m\u001b[0m\n\u001b[0;32m----> 3\u001b[0;31m         \u001b[0;32mraise\u001b[0m \u001b[0mZeroDivisionError\u001b[0m\u001b[0;34m(\u001b[0m\u001b[0;34m\"Invalid height: %s. This should be between 0 and 300\"\u001b[0m \u001b[0;34m%\u001b[0m \u001b[0mheight\u001b[0m\u001b[0;34m)\u001b[0m\u001b[0;34m\u001b[0m\u001b[0m\n\u001b[0m\u001b[1;32m      4\u001b[0m \u001b[0;34m\u001b[0m\u001b[0m\n\u001b[1;32m      5\u001b[0m     \u001b[0mprint\u001b[0m\u001b[0;34m(\u001b[0m\u001b[0;34m\"Height is set to %s\"\u001b[0m \u001b[0;34m%\u001b[0m \u001b[0mheight\u001b[0m\u001b[0;34m)\u001b[0m\u001b[0;34m\u001b[0m\u001b[0m\n",
      "\u001b[0;31mZeroDivisionError\u001b[0m: Invalid height: 400. This should be between 0 and 300"
     ]
    }
   ],
   "source": [
    "setHeight(400)"
   ]
  },
  {
   "cell_type": "markdown",
   "metadata": {},
   "source": [
    "Using a `ZeroDivisionError` is a bad choice, as the error has nothing to do with division by zero. A `ValueError` is the right choice as the error relates to an invalid value passed to the function.\n",
    "\n",
    "You are free to create your own exception classes."
   ]
  },
  {
   "cell_type": "code",
   "execution_count": 8,
   "metadata": {},
   "outputs": [],
   "source": [
    "class InvalidHeightError(Exception):\n",
    "    pass"
   ]
  },
  {
   "cell_type": "code",
   "execution_count": 9,
   "metadata": {
    "collapsed": true
   },
   "outputs": [],
   "source": [
    "def setHeight(height):\n",
    "    if height < 0 or height > 300:\n",
    "        raise InvalidHeightError(\"Invalid height: %s. This should be between 0 and 300\" % height)\n",
    "        \n",
    "    print(\"Height is set to %s\" % height)"
   ]
  },
  {
   "cell_type": "code",
   "execution_count": 10,
   "metadata": {},
   "outputs": [
    {
     "ename": "InvalidHeightError",
     "evalue": "Invalid height: -10. This should be between 0 and 300",
     "output_type": "error",
     "traceback": [
      "\u001b[0;31m---------------------------------------------------------------------------\u001b[0m",
      "\u001b[0;31mInvalidHeightError\u001b[0m                        Traceback (most recent call last)",
      "\u001b[0;32m<ipython-input-10-94e46abff43e>\u001b[0m in \u001b[0;36m<module>\u001b[0;34m()\u001b[0m\n\u001b[0;32m----> 1\u001b[0;31m \u001b[0msetHeight\u001b[0m\u001b[0;34m(\u001b[0m\u001b[0;34m-\u001b[0m\u001b[0;36m10\u001b[0m\u001b[0;34m)\u001b[0m\u001b[0;34m\u001b[0m\u001b[0m\n\u001b[0m",
      "\u001b[0;32m<ipython-input-9-ced177df8f8e>\u001b[0m in \u001b[0;36msetHeight\u001b[0;34m(height)\u001b[0m\n\u001b[1;32m      1\u001b[0m \u001b[0;32mdef\u001b[0m \u001b[0msetHeight\u001b[0m\u001b[0;34m(\u001b[0m\u001b[0mheight\u001b[0m\u001b[0;34m)\u001b[0m\u001b[0;34m:\u001b[0m\u001b[0;34m\u001b[0m\u001b[0m\n\u001b[1;32m      2\u001b[0m     \u001b[0;32mif\u001b[0m \u001b[0mheight\u001b[0m \u001b[0;34m<\u001b[0m \u001b[0;36m0\u001b[0m \u001b[0;32mor\u001b[0m \u001b[0mheight\u001b[0m \u001b[0;34m>\u001b[0m \u001b[0;36m300\u001b[0m\u001b[0;34m:\u001b[0m\u001b[0;34m\u001b[0m\u001b[0m\n\u001b[0;32m----> 3\u001b[0;31m         \u001b[0;32mraise\u001b[0m \u001b[0mInvalidHeightError\u001b[0m\u001b[0;34m(\u001b[0m\u001b[0;34m\"Invalid height: %s. This should be between 0 and 300\"\u001b[0m \u001b[0;34m%\u001b[0m \u001b[0mheight\u001b[0m\u001b[0;34m)\u001b[0m\u001b[0;34m\u001b[0m\u001b[0m\n\u001b[0m\u001b[1;32m      4\u001b[0m \u001b[0;34m\u001b[0m\u001b[0m\n\u001b[1;32m      5\u001b[0m     \u001b[0mprint\u001b[0m\u001b[0;34m(\u001b[0m\u001b[0;34m\"Height is set to %s\"\u001b[0m \u001b[0;34m%\u001b[0m \u001b[0mheight\u001b[0m\u001b[0;34m)\u001b[0m\u001b[0;34m\u001b[0m\u001b[0m\n",
      "\u001b[0;31mInvalidHeightError\u001b[0m: Invalid height: -10. This should be between 0 and 300"
     ]
    }
   ],
   "source": [
    "setHeight(-10)"
   ]
  },
  {
   "cell_type": "markdown",
   "metadata": {},
   "source": [
    "Your own exception classes must be declared as derived from type `Exception`, hence why you have to write `class InvalidHeightError(Exception):`. As the class doesn't need to do anything else, you can use `pass` to say that nothing else needs to be added. Note that you can call your error class anything you want. By convention, it is good to end the class name with `Error` so that other programmers know what it is for."
   ]
  },
  {
   "cell_type": "markdown",
   "metadata": {},
   "source": [
    "# Exercise\n",
    "\n",
    "Here is an extended copy of the `Person` code from above."
   ]
  },
  {
   "cell_type": "code",
   "execution_count": 11,
   "metadata": {
    "collapsed": true
   },
   "outputs": [],
   "source": [
    "class Person:\n",
    "    \"\"\"Class that holds a person's height\"\"\"\n",
    "    def __init__(self, height=0, weight=0):\n",
    "        \"\"\"Construct a person with the specified name, height and weight\"\"\"\n",
    "        self.setHeight(height)\n",
    "        self.setWeight(weight)\n",
    "    \n",
    "    def setHeight(self, height):\n",
    "        \"\"\"Set the person's height in meters\"\"\"\n",
    "        if height < 0 or height > 2.5:\n",
    "            raise ValueError(\"Invalid height: %s. This shoud be between 0 and 2.5 meters\" % height)\n",
    "        self._height = height\n",
    "    \n",
    "    def setWeight(self, weight):\n",
    "        \"\"\"Set the person's weight in kilograms\"\"\"\n",
    "        if weight < 0 or weight > 500:\n",
    "            raise ValueError(\"Invalid weight: %s. This should be between 0 and 500 kilograms\" % weight)\n",
    "        self._weight = weight\n",
    "        \n",
    "    def getHeight(self):\n",
    "        \"\"\"Return the person's height in meters\"\"\"\n",
    "        return self._height\n",
    "    \n",
    "    def getWeight(self):\n",
    "        \"\"\"Return the person's weight in kilograms\"\"\"\n",
    "        return self._weight\n",
    "    \n",
    "    def bmi(self):\n",
    "        \"\"\"Return the person's body mass index (bmi)\"\"\"\n",
    "        return self.getWeight() / self.getHeight()**2"
   ]
  },
  {
   "cell_type": "markdown",
   "metadata": {},
   "source": [
    "## Exercise 1\n",
    "\n",
    "Edit the above copy of `Person` to ensure that the `.setWeight` function only accepts valid weights. A valid weight is any number that is between 0 and 500 kilograms. You should raise a `ValueError` if the weight is outside this range. For the moment, do not worry about the user supplying a non-numeric weight.\n",
    "\n",
    "Also edit the above copy of `Person` to ensure that the `.setHeight` function only accepts valid heights. A valid height is any number that is between 0 and 2.5 meters. You should raise a `ValueError` if the height is outside this range. For the moment, do not worry about the user supplying a non-numeric height.\n",
    "\n",
    "Check that a `ValueError` exception is correctly raised if invalid heights or weights are supplied. Also check that the `ValueError` exception is not raised if a valid height and weight are supplied."
   ]
  },
  {
   "cell_type": "code",
   "execution_count": 12,
   "metadata": {},
   "outputs": [
    {
     "ename": "ValueError",
     "evalue": "Invalid height: 2.8. This shoud be between 0 and 2.5 meters",
     "output_type": "error",
     "traceback": [
      "\u001b[0;31m---------------------------------------------------------------------------\u001b[0m",
      "\u001b[0;31mValueError\u001b[0m                                Traceback (most recent call last)",
      "\u001b[0;32m<ipython-input-12-a9b5ab422dd0>\u001b[0m in \u001b[0;36m<module>\u001b[0;34m()\u001b[0m\n\u001b[0;32m----> 1\u001b[0;31m \u001b[0mp\u001b[0m \u001b[0;34m=\u001b[0m \u001b[0mPerson\u001b[0m\u001b[0;34m(\u001b[0m\u001b[0mheight\u001b[0m\u001b[0;34m=\u001b[0m\u001b[0;36m2.8\u001b[0m\u001b[0;34m,\u001b[0m \u001b[0mweight\u001b[0m\u001b[0;34m=\u001b[0m\u001b[0;36m500\u001b[0m\u001b[0;34m)\u001b[0m\u001b[0;34m\u001b[0m\u001b[0m\n\u001b[0m",
      "\u001b[0;32m<ipython-input-11-b83565801c3e>\u001b[0m in \u001b[0;36m__init__\u001b[0;34m(self, height, weight)\u001b[0m\n\u001b[1;32m      3\u001b[0m     \u001b[0;32mdef\u001b[0m \u001b[0m__init__\u001b[0m\u001b[0;34m(\u001b[0m\u001b[0mself\u001b[0m\u001b[0;34m,\u001b[0m \u001b[0mheight\u001b[0m\u001b[0;34m=\u001b[0m\u001b[0;36m0\u001b[0m\u001b[0;34m,\u001b[0m \u001b[0mweight\u001b[0m\u001b[0;34m=\u001b[0m\u001b[0;36m0\u001b[0m\u001b[0;34m)\u001b[0m\u001b[0;34m:\u001b[0m\u001b[0;34m\u001b[0m\u001b[0m\n\u001b[1;32m      4\u001b[0m         \u001b[0;34m\"\"\"Construct a person with the specified name, height and weight\"\"\"\u001b[0m\u001b[0;34m\u001b[0m\u001b[0m\n\u001b[0;32m----> 5\u001b[0;31m         \u001b[0mself\u001b[0m\u001b[0;34m.\u001b[0m\u001b[0msetHeight\u001b[0m\u001b[0;34m(\u001b[0m\u001b[0mheight\u001b[0m\u001b[0;34m)\u001b[0m\u001b[0;34m\u001b[0m\u001b[0m\n\u001b[0m\u001b[1;32m      6\u001b[0m         \u001b[0mself\u001b[0m\u001b[0;34m.\u001b[0m\u001b[0msetWeight\u001b[0m\u001b[0;34m(\u001b[0m\u001b[0mweight\u001b[0m\u001b[0;34m)\u001b[0m\u001b[0;34m\u001b[0m\u001b[0m\n\u001b[1;32m      7\u001b[0m \u001b[0;34m\u001b[0m\u001b[0m\n",
      "\u001b[0;32m<ipython-input-11-b83565801c3e>\u001b[0m in \u001b[0;36msetHeight\u001b[0;34m(self, height)\u001b[0m\n\u001b[1;32m      9\u001b[0m         \u001b[0;34m\"\"\"Set the person's height in meters\"\"\"\u001b[0m\u001b[0;34m\u001b[0m\u001b[0m\n\u001b[1;32m     10\u001b[0m         \u001b[0;32mif\u001b[0m \u001b[0mheight\u001b[0m \u001b[0;34m<\u001b[0m \u001b[0;36m0\u001b[0m \u001b[0;32mor\u001b[0m \u001b[0mheight\u001b[0m \u001b[0;34m>\u001b[0m \u001b[0;36m2.5\u001b[0m\u001b[0;34m:\u001b[0m\u001b[0;34m\u001b[0m\u001b[0m\n\u001b[0;32m---> 11\u001b[0;31m             \u001b[0;32mraise\u001b[0m \u001b[0mValueError\u001b[0m\u001b[0;34m(\u001b[0m\u001b[0;34m\"Invalid height: %s. This shoud be between 0 and 2.5 meters\"\u001b[0m \u001b[0;34m%\u001b[0m \u001b[0mheight\u001b[0m\u001b[0;34m)\u001b[0m\u001b[0;34m\u001b[0m\u001b[0m\n\u001b[0m\u001b[1;32m     12\u001b[0m         \u001b[0mself\u001b[0m\u001b[0;34m.\u001b[0m\u001b[0m_height\u001b[0m \u001b[0;34m=\u001b[0m \u001b[0mheight\u001b[0m\u001b[0;34m\u001b[0m\u001b[0m\n\u001b[1;32m     13\u001b[0m \u001b[0;34m\u001b[0m\u001b[0m\n",
      "\u001b[0;31mValueError\u001b[0m: Invalid height: 2.8. This shoud be between 0 and 2.5 meters"
     ]
    }
   ],
   "source": [
    "p = Person(height=2.8, weight=500)"
   ]
  },
  {
   "cell_type": "code",
   "execution_count": 13,
   "metadata": {},
   "outputs": [
    {
     "ename": "ValueError",
     "evalue": "Invalid weight: 501. This should be between 0 and 500 kilograms",
     "output_type": "error",
     "traceback": [
      "\u001b[0;31m---------------------------------------------------------------------------\u001b[0m",
      "\u001b[0;31mValueError\u001b[0m                                Traceback (most recent call last)",
      "\u001b[0;32m<ipython-input-13-431e2b96b8b9>\u001b[0m in \u001b[0;36m<module>\u001b[0;34m()\u001b[0m\n\u001b[0;32m----> 1\u001b[0;31m \u001b[0mp\u001b[0m \u001b[0;34m=\u001b[0m \u001b[0mPerson\u001b[0m\u001b[0;34m(\u001b[0m\u001b[0mheight\u001b[0m\u001b[0;34m=\u001b[0m\u001b[0;36m1.8\u001b[0m\u001b[0;34m,\u001b[0m \u001b[0mweight\u001b[0m\u001b[0;34m=\u001b[0m\u001b[0;36m501\u001b[0m\u001b[0;34m)\u001b[0m\u001b[0;34m\u001b[0m\u001b[0m\n\u001b[0m",
      "\u001b[0;32m<ipython-input-11-b83565801c3e>\u001b[0m in \u001b[0;36m__init__\u001b[0;34m(self, height, weight)\u001b[0m\n\u001b[1;32m      4\u001b[0m         \u001b[0;34m\"\"\"Construct a person with the specified name, height and weight\"\"\"\u001b[0m\u001b[0;34m\u001b[0m\u001b[0m\n\u001b[1;32m      5\u001b[0m         \u001b[0mself\u001b[0m\u001b[0;34m.\u001b[0m\u001b[0msetHeight\u001b[0m\u001b[0;34m(\u001b[0m\u001b[0mheight\u001b[0m\u001b[0;34m)\u001b[0m\u001b[0;34m\u001b[0m\u001b[0m\n\u001b[0;32m----> 6\u001b[0;31m         \u001b[0mself\u001b[0m\u001b[0;34m.\u001b[0m\u001b[0msetWeight\u001b[0m\u001b[0;34m(\u001b[0m\u001b[0mweight\u001b[0m\u001b[0;34m)\u001b[0m\u001b[0;34m\u001b[0m\u001b[0m\n\u001b[0m\u001b[1;32m      7\u001b[0m \u001b[0;34m\u001b[0m\u001b[0m\n\u001b[1;32m      8\u001b[0m     \u001b[0;32mdef\u001b[0m \u001b[0msetHeight\u001b[0m\u001b[0;34m(\u001b[0m\u001b[0mself\u001b[0m\u001b[0;34m,\u001b[0m \u001b[0mheight\u001b[0m\u001b[0;34m)\u001b[0m\u001b[0;34m:\u001b[0m\u001b[0;34m\u001b[0m\u001b[0m\n",
      "\u001b[0;32m<ipython-input-11-b83565801c3e>\u001b[0m in \u001b[0;36msetWeight\u001b[0;34m(self, weight)\u001b[0m\n\u001b[1;32m     15\u001b[0m         \u001b[0;34m\"\"\"Set the person's weight in kilograms\"\"\"\u001b[0m\u001b[0;34m\u001b[0m\u001b[0m\n\u001b[1;32m     16\u001b[0m         \u001b[0;32mif\u001b[0m \u001b[0mweight\u001b[0m \u001b[0;34m<\u001b[0m \u001b[0;36m0\u001b[0m \u001b[0;32mor\u001b[0m \u001b[0mweight\u001b[0m \u001b[0;34m>\u001b[0m \u001b[0;36m500\u001b[0m\u001b[0;34m:\u001b[0m\u001b[0;34m\u001b[0m\u001b[0m\n\u001b[0;32m---> 17\u001b[0;31m             \u001b[0;32mraise\u001b[0m \u001b[0mValueError\u001b[0m\u001b[0;34m(\u001b[0m\u001b[0;34m\"Invalid weight: %s. This should be between 0 and 500 kilograms\"\u001b[0m \u001b[0;34m%\u001b[0m \u001b[0mweight\u001b[0m\u001b[0;34m)\u001b[0m\u001b[0;34m\u001b[0m\u001b[0m\n\u001b[0m\u001b[1;32m     18\u001b[0m         \u001b[0mself\u001b[0m\u001b[0;34m.\u001b[0m\u001b[0m_weight\u001b[0m \u001b[0;34m=\u001b[0m \u001b[0mweight\u001b[0m\u001b[0;34m\u001b[0m\u001b[0m\n\u001b[1;32m     19\u001b[0m \u001b[0;34m\u001b[0m\u001b[0m\n",
      "\u001b[0;31mValueError\u001b[0m: Invalid weight: 501. This should be between 0 and 500 kilograms"
     ]
    }
   ],
   "source": [
    "p = Person(height=1.8, weight=501)"
   ]
  },
  {
   "cell_type": "code",
   "execution_count": 14,
   "metadata": {},
   "outputs": [],
   "source": [
    "p = Person(height=1.8, weight=150)"
   ]
  },
  {
   "cell_type": "markdown",
   "metadata": {},
   "source": [
    "## Exercise 2\n",
    "\n",
    "If you run the following code;\n",
    "\n",
    "```python\n",
    "p = Person()\n",
    "p.bmi()\n",
    "```\n",
    "\n",
    "it will raise a `DivideByZero` exception. This is because the calculation involves dividing by the height squared, which is zero in a default-constructed `Person`. While an exception has been raised, it is not very intuitive for another programmer to debug. A solution is to create your own named exception that provides more information.\n",
    "\n",
    "Create a new exception called `NullPersonError`, and edit the `.bmi()` function so that this exception is raised if it is called on a `Person` whose height or weight is zero.\n",
    "\n",
    "Check that the `NullPersonError` exception is raised if `.bmi()` is called on a default-constructed `Person`. Check that this exception is not raised if `.bmi()` is called on a properly constructed `Person`."
   ]
  },
  {
   "cell_type": "code",
   "execution_count": 15,
   "metadata": {
    "collapsed": true
   },
   "outputs": [],
   "source": [
    "class NullPersonError(Exception):\n",
    "    pass"
   ]
  },
  {
   "cell_type": "code",
   "execution_count": 16,
   "metadata": {
    "collapsed": true
   },
   "outputs": [],
   "source": [
    "class Person:\n",
    "    \"\"\"Class that holds a person's height\"\"\"\n",
    "    def __init__(self, height=0, weight=0):\n",
    "        \"\"\"Construct a person with the specified name, height and weight\"\"\"\n",
    "        self.setHeight(height)\n",
    "        self.setWeight(weight)\n",
    "    \n",
    "    def setHeight(self, height):\n",
    "        \"\"\"Set the person's height in meters\"\"\"\n",
    "        if height < 0 or height > 2.5:\n",
    "            raise ValueError(\"Invalid height: %s. This shoud be between 0 and 2.5 meters\" % height)\n",
    "        self._height = height\n",
    "    \n",
    "    def setWeight(self, weight):\n",
    "        \"\"\"Set the person's weight in kilograms\"\"\"\n",
    "        if weight < 0 or weight > 500:\n",
    "            raise ValueError(\"Invalid weight: %s. This should be between 0 and 500 kilograms\" % weight)\n",
    "        self._weight = weight\n",
    "        \n",
    "    def getHeight(self):\n",
    "        \"\"\"Return the person's height in meters\"\"\"\n",
    "        return self._height\n",
    "    \n",
    "    def getWeight(self):\n",
    "        \"\"\"Return the person's weight in kilograms\"\"\"\n",
    "        return self._weight\n",
    "    \n",
    "    def bmi(self):\n",
    "        \"\"\"Return the person's body mass index (bmi)\"\"\"\n",
    "        if (self.getHeight() == 0 or self.getWeight() == 0):\n",
    "            raise NullPersonError(\"Cannot calculate the BMI of a person with zero \"\n",
    "                                  \"height or weight (%s,%s)\" % (self.getHeight(),self.getWeight()))\n",
    "            \n",
    "        return self.getWeight() / self.getHeight()**2"
   ]
  },
  {
   "cell_type": "code",
   "execution_count": 17,
   "metadata": {
    "collapsed": true
   },
   "outputs": [],
   "source": [
    "p = Person()"
   ]
  },
  {
   "cell_type": "code",
   "execution_count": 18,
   "metadata": {},
   "outputs": [
    {
     "ename": "NullPersonError",
     "evalue": "Cannot calculate the BMI of a person with zero height or weight (0,0)",
     "output_type": "error",
     "traceback": [
      "\u001b[0;31m---------------------------------------------------------------------------\u001b[0m",
      "\u001b[0;31mNullPersonError\u001b[0m                           Traceback (most recent call last)",
      "\u001b[0;32m<ipython-input-18-ac90f82815e5>\u001b[0m in \u001b[0;36m<module>\u001b[0;34m()\u001b[0m\n\u001b[0;32m----> 1\u001b[0;31m \u001b[0mp\u001b[0m\u001b[0;34m.\u001b[0m\u001b[0mbmi\u001b[0m\u001b[0;34m(\u001b[0m\u001b[0;34m)\u001b[0m\u001b[0;34m\u001b[0m\u001b[0m\n\u001b[0m",
      "\u001b[0;32m<ipython-input-16-061742ffc8d5>\u001b[0m in \u001b[0;36mbmi\u001b[0;34m(self)\u001b[0m\n\u001b[1;32m     30\u001b[0m         \u001b[0;32mif\u001b[0m \u001b[0;34m(\u001b[0m\u001b[0mself\u001b[0m\u001b[0;34m.\u001b[0m\u001b[0mgetHeight\u001b[0m\u001b[0;34m(\u001b[0m\u001b[0;34m)\u001b[0m \u001b[0;34m==\u001b[0m \u001b[0;36m0\u001b[0m \u001b[0;32mor\u001b[0m \u001b[0mself\u001b[0m\u001b[0;34m.\u001b[0m\u001b[0mgetWeight\u001b[0m\u001b[0;34m(\u001b[0m\u001b[0;34m)\u001b[0m \u001b[0;34m==\u001b[0m \u001b[0;36m0\u001b[0m\u001b[0;34m)\u001b[0m\u001b[0;34m:\u001b[0m\u001b[0;34m\u001b[0m\u001b[0m\n\u001b[1;32m     31\u001b[0m             raise NullPersonError(\"Cannot calculate the BMI of a person with zero \"\n\u001b[0;32m---> 32\u001b[0;31m                                   \"height or weight (%s,%s)\" % (self.getHeight(),self.getWeight()))\n\u001b[0m\u001b[1;32m     33\u001b[0m \u001b[0;34m\u001b[0m\u001b[0m\n\u001b[1;32m     34\u001b[0m         \u001b[0;32mreturn\u001b[0m \u001b[0mself\u001b[0m\u001b[0;34m.\u001b[0m\u001b[0mgetWeight\u001b[0m\u001b[0;34m(\u001b[0m\u001b[0;34m)\u001b[0m \u001b[0;34m/\u001b[0m \u001b[0mself\u001b[0m\u001b[0;34m.\u001b[0m\u001b[0mgetHeight\u001b[0m\u001b[0;34m(\u001b[0m\u001b[0;34m)\u001b[0m\u001b[0;34m**\u001b[0m\u001b[0;36m2\u001b[0m\u001b[0;34m\u001b[0m\u001b[0m\n",
      "\u001b[0;31mNullPersonError\u001b[0m: Cannot calculate the BMI of a person with zero height or weight (0,0)"
     ]
    }
   ],
   "source": [
    "p.bmi()"
   ]
  },
  {
   "cell_type": "code",
   "execution_count": 19,
   "metadata": {},
   "outputs": [],
   "source": [
    "p = Person(height=1.8, weight=77.5)"
   ]
  },
  {
   "cell_type": "code",
   "execution_count": 20,
   "metadata": {},
   "outputs": [
    {
     "data": {
      "text/plain": [
       "23.919753086419753"
      ]
     },
     "execution_count": 20,
     "metadata": {},
     "output_type": "execute_result"
    }
   ],
   "source": [
    "p.bmi()"
   ]
  },
  {
   "cell_type": "code",
   "execution_count": null,
   "metadata": {
    "collapsed": true
   },
   "outputs": [],
   "source": []
  }
 ],
 "metadata": {
  "kernelspec": {
   "display_name": "Python 3",
   "language": "python",
   "name": "python3"
  },
  "language_info": {
   "codemirror_mode": {
    "name": "ipython",
    "version": 3
   },
   "file_extension": ".py",
   "mimetype": "text/x-python",
   "name": "python",
   "nbconvert_exporter": "python",
   "pygments_lexer": "ipython3",
   "version": "3.5.3"
  }
 },
 "nbformat": 4,
 "nbformat_minor": 2
}
