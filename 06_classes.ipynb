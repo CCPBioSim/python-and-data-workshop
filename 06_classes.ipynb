{
 "cells": [
  {
   "cell_type": "markdown",
   "metadata": {},
   "source": [
    "# Classes\n",
    "\n",
    "Classes allow you to define how to package data with functions to create objects. An object is an instance of a class, which contains its own data, and its own copy of functions that can operate on that data.\n",
    "\n",
    "You use classes to define objects that represent the concepts and things that your program will work with. For example, if your program managed exam results of students, then you may create one class that represents an Exam, and another that represents a Student."
   ]
  },
  {
   "cell_type": "code",
   "execution_count": null,
   "metadata": {
    "collapsed": true
   },
   "outputs": [],
   "source": [
    "class Exam:\n",
    "    def __init__(self, max_score=100):\n",
    "        self._max_score = max_score\n",
    "        self._actual_score = 0\n",
    "        \n",
    "    def percent(self):\n",
    "        return 100.0 * self._actual_score / self._max_score\n",
    "    \n",
    "    def setResult(self, score):\n",
    "        if (score < 0):\n",
    "            self._actual_score = 0\n",
    "        elif (score > self._max_score):\n",
    "            self._actual_score = self._max_score\n",
    "        else:\n",
    "            self._actual_score = score\n",
    "    \n",
    "    def grade(self):\n",
    "        if (self._actual_score == 0):\n",
    "            return \"U\"\n",
    "        elif (self.percent() > 90.0):\n",
    "            return \"A\"\n",
    "        elif (self.percent() > 80.0):\n",
    "            return \"B\"\n",
    "        elif (self.percent() > 70.0):\n",
    "            return \"C\"\n",
    "        else:\n",
    "            return \"F\""
   ]
  },
  {
   "cell_type": "code",
   "execution_count": null,
   "metadata": {
    "collapsed": true
   },
   "outputs": [],
   "source": [
    "class Student:\n",
    "    def __init__(self):\n",
    "        self._exams = {}\n",
    "    \n",
    "    def addExam(self, name, exam):\n",
    "        self._exams[name] = exam\n",
    "        \n",
    "    def addResult(self, name, score):\n",
    "        self._exams[name].setResult(score)\n",
    "    \n",
    "    def result(self, exam):\n",
    "        return self._exams[exam].percent()\n",
    "    \n",
    "    def grade(self, exam):\n",
    "        return self._exams[exam].grade()\n",
    "    \n",
    "    def grades(self):\n",
    "        g = {}\n",
    "        for exam in self._exams.keys():\n",
    "            g[exam] = self.grade(exam)\n",
    "        return g"
   ]
  },
  {
   "cell_type": "markdown",
   "metadata": {},
   "source": [
    "We can now create a student, and give them a set of exams that they need to complete."
   ]
  },
  {
   "cell_type": "code",
   "execution_count": null,
   "metadata": {
    "collapsed": true
   },
   "outputs": [],
   "source": [
    "s = Student()"
   ]
  },
  {
   "cell_type": "code",
   "execution_count": null,
   "metadata": {
    "collapsed": true
   },
   "outputs": [],
   "source": [
    "s.addExam( \"maths\", Exam(20) )"
   ]
  },
  {
   "cell_type": "code",
   "execution_count": null,
   "metadata": {
    "collapsed": true
   },
   "outputs": [],
   "source": [
    "s.addExam( \"chemistry\", Exam(75) )"
   ]
  },
  {
   "cell_type": "markdown",
   "metadata": {},
   "source": [
    "At this point, the student has not completed any exams, so the grades are all 'U'"
   ]
  },
  {
   "cell_type": "code",
   "execution_count": null,
   "metadata": {},
   "outputs": [],
   "source": [
    "s.grades()"
   ]
  },
  {
   "cell_type": "markdown",
   "metadata": {},
   "source": [
    "However, we can now add the results..."
   ]
  },
  {
   "cell_type": "code",
   "execution_count": null,
   "metadata": {
    "collapsed": true
   },
   "outputs": [],
   "source": [
    "s.addResult(\"maths\", 15)"
   ]
  },
  {
   "cell_type": "code",
   "execution_count": null,
   "metadata": {
    "collapsed": true
   },
   "outputs": [],
   "source": [
    "s.addResult(\"chemistry\", 62)"
   ]
  },
  {
   "cell_type": "code",
   "execution_count": null,
   "metadata": {},
   "outputs": [],
   "source": [
    "s.grades()"
   ]
  },
  {
   "cell_type": "markdown",
   "metadata": {},
   "source": [
    "Programming with classes makes the code easier to read, as the code more closely represents the concepts that make up the program. For example, here we have a class that represents a full school of students."
   ]
  },
  {
   "cell_type": "code",
   "execution_count": null,
   "metadata": {
    "collapsed": true
   },
   "outputs": [],
   "source": [
    "class School:\n",
    "    def __init__(self):\n",
    "        self._students = {}\n",
    "        self._exams = []\n",
    "\n",
    "    def addStudent(self, name):\n",
    "        self._students[name] = Student()\n",
    "\n",
    "    def addExam(self, exam, max_score):\n",
    "        self._exams.append(exam)\n",
    "        \n",
    "        for key in self._students.keys():\n",
    "            self._students[key].addExam(exam, Exam(max_score))\n",
    "    \n",
    "    def addResult(self, name, exam, score):\n",
    "        self._students[name].addResult(exam, score)\n",
    "        \n",
    "    def grades(self):\n",
    "        g = {}\n",
    "        for name in self._students.keys():\n",
    "            g[name] = self._students[name].grades()\n",
    "        return g"
   ]
  },
  {
   "cell_type": "markdown",
   "metadata": {},
   "source": [
    "We can now create a whole school of students and manage the exams and results for all of them with some reasonably readable code :-)"
   ]
  },
  {
   "cell_type": "code",
   "execution_count": null,
   "metadata": {
    "collapsed": true
   },
   "outputs": [],
   "source": [
    "school = School()"
   ]
  },
  {
   "cell_type": "code",
   "execution_count": null,
   "metadata": {
    "collapsed": true
   },
   "outputs": [],
   "source": [
    "school.addStudent(\"Charlie\")"
   ]
  },
  {
   "cell_type": "code",
   "execution_count": null,
   "metadata": {
    "collapsed": true
   },
   "outputs": [],
   "source": [
    "school.addStudent(\"Matt\")"
   ]
  },
  {
   "cell_type": "code",
   "execution_count": null,
   "metadata": {
    "collapsed": true
   },
   "outputs": [],
   "source": [
    "school.addStudent(\"James\")"
   ]
  },
  {
   "cell_type": "code",
   "execution_count": null,
   "metadata": {
    "collapsed": true
   },
   "outputs": [],
   "source": [
    "school.addExam( \"maths\", 20 )"
   ]
  },
  {
   "cell_type": "code",
   "execution_count": null,
   "metadata": {
    "collapsed": true
   },
   "outputs": [],
   "source": [
    "school.addExam( \"physics\", 50 )"
   ]
  },
  {
   "cell_type": "code",
   "execution_count": null,
   "metadata": {
    "collapsed": true
   },
   "outputs": [],
   "source": [
    "school.addExam( \"english literature\", 30 )"
   ]
  },
  {
   "cell_type": "code",
   "execution_count": null,
   "metadata": {},
   "outputs": [],
   "source": [
    "school.grades()"
   ]
  },
  {
   "cell_type": "markdown",
   "metadata": {},
   "source": [
    "We can now add in the results of the exams, which have been returned to us by the exam markers..."
   ]
  },
  {
   "cell_type": "code",
   "execution_count": null,
   "metadata": {
    "collapsed": true
   },
   "outputs": [],
   "source": [
    "englit_results = { \"Charlie\" : 10, \"Matt\" : 25, \"James\" : 3 }"
   ]
  },
  {
   "cell_type": "code",
   "execution_count": null,
   "metadata": {
    "collapsed": true
   },
   "outputs": [],
   "source": [
    "phys_results = { \"Matt\" : 48, \"James\" : 3 }"
   ]
  },
  {
   "cell_type": "code",
   "execution_count": null,
   "metadata": {
    "collapsed": true
   },
   "outputs": [],
   "source": [
    "maths_results = { \"James\" : 20, \"Matt\" : 18, \"Charlie\" : 4 }"
   ]
  },
  {
   "cell_type": "markdown",
   "metadata": {},
   "source": [
    "Indeed, we will do this by using a function..."
   ]
  },
  {
   "cell_type": "code",
   "execution_count": null,
   "metadata": {
    "collapsed": true
   },
   "outputs": [],
   "source": [
    "def add_results(school, exam, results):\n",
    "    for student in results.keys():\n",
    "        school.addResult(student, exam, results[student])"
   ]
  },
  {
   "cell_type": "code",
   "execution_count": null,
   "metadata": {
    "collapsed": true
   },
   "outputs": [],
   "source": [
    "add_results(school, \"english literature\", englit_results)"
   ]
  },
  {
   "cell_type": "code",
   "execution_count": null,
   "metadata": {
    "collapsed": true
   },
   "outputs": [],
   "source": [
    "add_results(school, \"physics\", phys_results)"
   ]
  },
  {
   "cell_type": "code",
   "execution_count": null,
   "metadata": {
    "collapsed": true
   },
   "outputs": [],
   "source": [
    "add_results(school, \"maths\", maths_results)"
   ]
  },
  {
   "cell_type": "code",
   "execution_count": null,
   "metadata": {},
   "outputs": [],
   "source": [
    "school.grades()"
   ]
  },
  {
   "cell_type": "markdown",
   "metadata": {},
   "source": [
    "# Exercise\n",
    "\n",
    "## Exercise 1\n",
    "\n",
    "Here is a copy of the Morse class from the last section. Modify this class to add in a `decode` function that converts Morse code back to english. Check that this class works by seeing if `m.decode( m.encode(message) ) == message.lower()`."
   ]
  },
  {
   "cell_type": "code",
   "execution_count": null,
   "metadata": {
    "collapsed": true
   },
   "outputs": [],
   "source": [
    "class Morse:\n",
    "    def __init__(self):\n",
    "        self._letter_to_morse = {'a':'.-', 'b':'-...', 'c':'-.-.', 'd':'-..', 'e':'.', 'f':'..-.',\n",
    "                   'g':'--.', 'h':'....', 'i':'..', 'j':'.---', 'k':'-.-', 'l':'.-..', 'm':'--',\n",
    "                   'n':'-.', 'o':'---', 'p':'.--.', 'q':'--.-', 'r':'.-.', 's':'...', 't':'-',\n",
    "                   'u':'..-', 'v':'...-', 'w':'.--', 'x':'-..-', 'y':'-.--', 'z':'--..',\n",
    "                   '0':'-----', '1':'.----', '2':'..---', '3':'...--', '4':'....-',\n",
    "                   '5':'.....', '6':'-....', '7':'--...', '8':'---..', '9':'----.',\n",
    "                   ' ':'/' }\n",
    "        \n",
    "    def encode(self, message):\n",
    "        morse = []\n",
    "        for letter in message:\n",
    "            morse.append( self._letter_to_morse[letter.lower()] )\n",
    "        return morse\n"
   ]
  },
  {
   "cell_type": "code",
   "execution_count": null,
   "metadata": {
    "collapsed": true
   },
   "outputs": [],
   "source": []
  },
  {
   "cell_type": "markdown",
   "metadata": {},
   "source": [
    "## Exercise 2\n",
    "\n",
    "Below is a copy of the `School` class, together with a copy of the code needed to populate an object of that class with students and exam results. Edit the `School` class to add in the following functions:\n",
    "\n",
    "* `.resits()` : this should return the list of exams that each student should resit if they get a \"F\" or \"U\" grade.\n",
    "* `.prizeStudent()` : this should return the name of the student who scored the highest average percent across all of the exams.\n",
    "* `.reviseCourse(threshold)` : this should return the name of the exam that gets the lowest average score across all students, if the average score is below `threshold`.\n",
    "\n",
    "Use these functions to find out which students need to resit which exams, which student should be awarded the annual school prize, and which courses should be revised as the average mark is less than 50%."
   ]
  },
  {
   "cell_type": "code",
   "execution_count": null,
   "metadata": {
    "collapsed": true
   },
   "outputs": [],
   "source": [
    "class School:\n",
    "    def __init__(self):\n",
    "        self._students = {}\n",
    "        self._exams = []\n",
    "\n",
    "    def addStudent(self, name):\n",
    "        self._students[name] = Student()\n",
    "\n",
    "    def addExam(self, exam, max_score):\n",
    "        self._exams.append(exam)\n",
    "        \n",
    "        for key in self._students.keys():\n",
    "            self._students[key].addExam(exam, Exam(max_score))\n",
    "    \n",
    "    def addResult(self, name, exam, score):\n",
    "        self._students[name].addResult(exam, score)\n",
    "        \n",
    "    def grades(self):\n",
    "        g = {}\n",
    "        for name in self._students.keys():\n",
    "            g[name] = self._students[name].grades()\n",
    "        return g"
   ]
  },
  {
   "cell_type": "code",
   "execution_count": null,
   "metadata": {
    "collapsed": true
   },
   "outputs": [],
   "source": [
    "students = [\"Charlie\", \"James\", \"Matt\"]"
   ]
  },
  {
   "cell_type": "code",
   "execution_count": null,
   "metadata": {
    "collapsed": true
   },
   "outputs": [],
   "source": [
    "exams = { \"maths\" : 20, \"physics\" : 50, \"english literature\" : 30 }"
   ]
  },
  {
   "cell_type": "code",
   "execution_count": null,
   "metadata": {
    "collapsed": true
   },
   "outputs": [],
   "source": [
    "results = { \"maths\" : { \"James\" : 20, \"Matt\" : 18, \"Charlie\" : 4 }, \n",
    "            \"physics\" : { \"Matt\" : 48, \"James\" : 3 },\n",
    "            \"english literature\" : { \"Charlie\" : 10, \"Matt\" : 25, \"James\" : 3 } }"
   ]
  },
  {
   "cell_type": "code",
   "execution_count": null,
   "metadata": {
    "collapsed": true
   },
   "outputs": [],
   "source": [
    "school = School()"
   ]
  },
  {
   "cell_type": "code",
   "execution_count": null,
   "metadata": {
    "collapsed": true
   },
   "outputs": [],
   "source": [
    "for student in students:\n",
    "    school.addStudent(student)"
   ]
  },
  {
   "cell_type": "code",
   "execution_count": null,
   "metadata": {
    "collapsed": true
   },
   "outputs": [],
   "source": [
    "for exam in exams.keys():\n",
    "    school.addExam(exam, exams[exam])"
   ]
  },
  {
   "cell_type": "code",
   "execution_count": null,
   "metadata": {
    "collapsed": true
   },
   "outputs": [],
   "source": [
    "for exam in results:\n",
    "    add_results(school, exam, results[exam])"
   ]
  },
  {
   "cell_type": "code",
   "execution_count": null,
   "metadata": {
    "collapsed": true
   },
   "outputs": [],
   "source": [
    "school.grades()"
   ]
  },
  {
   "cell_type": "code",
   "execution_count": null,
   "metadata": {
    "collapsed": true
   },
   "outputs": [],
   "source": []
  }
 ],
 "metadata": {
  "kernelspec": {
   "display_name": "Python 3",
   "language": "python",
   "name": "python3"
  },
  "language_info": {
   "codemirror_mode": {
    "name": "ipython",
    "version": 3
   },
   "file_extension": ".py",
   "mimetype": "text/x-python",
   "name": "python",
   "nbconvert_exporter": "python",
   "pygments_lexer": "ipython3",
   "version": "3.5.3"
  }
 },
 "nbformat": 4,
 "nbformat_minor": 2
}
