{
 "cells": [
  {
   "cell_type": "markdown",
   "metadata": {},
   "source": [
    "# What is Jupyter and how do you use it?\n",
    "\n",
    "[Project Jupyter](http://jupyter.org) exists to develop software and standards for interactive computing. Jupyter, which you are using now, provides an interactive notebook which runs on a cloud-server, and with which you interact using a web browser.\n",
    "\n",
    "As installed, Jupyter provides two things:\n",
    "\n",
    "* An interactive Python notebook, which you are using now (this is an interactive notebook!)\n",
    "* An interactive bash terminal (we will use this later)\n",
    "\n",
    "What is an interactive Python notebook? It is a notebook that mixes documentation (like this!) with Python code (like below), with the output of that code.\n",
    "\n",
    "For example, below is the Python code to print \"Hello World\". Click on the below code and then press \"SHIFT+Return\". You should see that the code is run, and below \"Hello World\" will be printed."
   ]
  },
  {
   "cell_type": "code",
   "execution_count": null,
   "metadata": {},
   "outputs": [],
   "source": [
    "print(\"Hello World\")"
   ]
  },
  {
   "cell_type": "markdown",
   "metadata": {},
   "source": [
    "The above code is interactive because it runs when you pressed \"SHIFT+Return\". It is also interactive because you can change it. For example, click again on the code and change \"Hello World\" to \"Hello Jupyter\". Press \"SHIFT+Return\" again and you should see \"Hello Jupyter\" printed.\n",
    "\n",
    "A code cell can have as much or little Python in it as you want. The below cell defines a function and then runs it in a loop. What do you think will be printed out when you select it and press \"SHIFT+Return\"? Have a go. Are you right?"
   ]
  },
  {
   "cell_type": "code",
   "execution_count": null,
   "metadata": {},
   "outputs": [],
   "source": [
    "def countDown(start):\n",
    "    for i in range(start, 0, -1):\n",
    "        print(\"%d...\" % i)\n",
    "    print(\"Lift off!\")\n",
    "    \n",
    "countDown(10)"
   ]
  },
  {
   "cell_type": "markdown",
   "metadata": {},
   "source": [
    "Each cell can use the variables and functions defined in previous cells. For example, the next cell sets the value of the variable `x` to 5, while the following cell then uses that to call the `countDown` function."
   ]
  },
  {
   "cell_type": "code",
   "execution_count": null,
   "metadata": {},
   "outputs": [],
   "source": [
    "x = 21"
   ]
  },
  {
   "cell_type": "code",
   "execution_count": null,
   "metadata": {},
   "outputs": [],
   "source": [
    "countDown(x)"
   ]
  },
  {
   "cell_type": "markdown",
   "metadata": {},
   "source": [
    "You can go back up and edit the value of `x`. For example, set `x` to 7 and press SHIFT+Return. This has changed `x`. However, it doesn't re-run any code that depends on `x`. That is for you to do. You need to click on the next cell `countDown(x)` and press SHIFT+Return again. You should then see that the code is run and updated.\n",
    "\n",
    "Because you can change any cell at any time, a notebook can get into a confused state. If we change `x` again to `21`, then the cell `countDown(x)`, is now out of date, as it depends on the old value of `x`. So, how can we know what state each cell is in? The state is based on the order in which cells are executed. This is shown by the little number next to each cell, e.g. see below.\n",
    "\n",
    "![Image showing Jupyter state](images/jupyter_state.jpeg)\n",
    "\n",
    "The number \"10\" shows that the line `x = 21` was the 10th cell executed by Python, while the line `countDown(x)` was the 9th cell executed. As `countDown(x)` was executed before `x = 21`, it was not affected by `x = 21`. If you want it to be affected, you need to execute that cell again (so it is now the 11th cell executed), e.g.\n",
    "\n",
    "![Image showing updated Jupyer state](images/jupyter_state2.jpeg)\n",
    "\n",
    "If you find yourself getting confused, then click \"Kernel | Restart & Clear Output\" from the menu above to clear all outputs, clear the state, and reset back to a clean notebook.\n",
    "\n",
    "![Image showing clear and restart](images/jupyter_restart.jpeg)"
   ]
  },
  {
   "cell_type": "code",
   "execution_count": null,
   "metadata": {},
   "outputs": [],
   "source": []
  }
 ],
 "metadata": {
  "kernelspec": {
   "display_name": "Python 3",
   "language": "python",
   "name": "python3"
  },
  "language_info": {
   "codemirror_mode": {
    "name": "ipython",
    "version": 3
   },
   "file_extension": ".py",
   "mimetype": "text/x-python",
   "name": "python",
   "nbconvert_exporter": "python",
   "pygments_lexer": "ipython3",
   "version": "3.5.2"
  }
 },
 "nbformat": 4,
 "nbformat_minor": 2
}
